{
  "nbformat": 4,
  "nbformat_minor": 0,
  "metadata": {
    "colab": {
      "name": "Yes Bank Stock Closing Price Prediction - Capstone Project.ipynb",
      "provenance": [],
      "collapsed_sections": [],
      "authorship_tag": "ABX9TyOuDGgtncXjrWErvB/0nIbJ",
      "include_colab_link": true
    },
    "kernelspec": {
      "name": "python3",
      "display_name": "Python 3"
    },
    "language_info": {
      "name": "python"
    }
  },
  "cells": [
    {
      "cell_type": "markdown",
      "metadata": {
        "id": "view-in-github",
        "colab_type": "text"
      },
      "source": [
        "<a href=\"https://colab.research.google.com/github/shashankbhatia15/Yes-Bank-Stock-Closing-Price-Prediction/blob/main/Yes_Bank_Stock_Closing_Price_Prediction_Capstone_Project.ipynb\" target=\"_parent\"><img src=\"https://colab.research.google.com/assets/colab-badge.svg\" alt=\"Open In Colab\"/></a>"
      ]
    },
    {
      "cell_type": "markdown",
      "metadata": {
        "id": "GJhalK4AlQIG"
      },
      "source": [
        "# **YES BANK STOCK CLOSING PRICE PREDICTION**"
      ]
    },
    {
      "cell_type": "markdown",
      "metadata": {
        "id": "UU7ULwiAlAFx"
      },
      "source": [
        "**Problem Statement**\n",
        "\n",
        "---\n",
        "\n",
        "\n",
        "Yes Bank is a well-known bank in the Indian financial domain. Since 2018, it has been in the\n",
        "news because of the fraud case involving Rana Kapoor. Owing to this fact, it was interesting\n",
        "to see how that impacted the stock prices of the company and whether Time series models\n",
        "or any other predictive models can do justice to such situations. This dataset has monthly\n",
        "stock prices of the bank since its inception and includes closing, starting, highest, and lowest\n",
        "stock prices of every month. The main objective is to predict the stock’s closing price of the\n",
        "month."
      ]
    },
    {
      "cell_type": "code",
      "metadata": {
        "id": "o-21psEBmNsR"
      },
      "source": [
        "#import libraries\n",
        "import pandas as pd\n",
        "import matplotlib.pyplot as plt\n",
        "import seaborn as sns\n",
        "import numpy as np\n",
        "\n",
        "from sklearn.metrics import *\n",
        "\n",
        "from statsmodels.stats.outliers_influence import variance_inflation_factor\n",
        "\n",
        "from sklearn.model_selection import train_test_split\n",
        "from sklearn.linear_model import LinearRegression as LR\n",
        "\n",
        "from sklearn import neighbors\n",
        "from sklearn.model_selection import GridSearchCV\n",
        "from sklearn.preprocessing import MinMaxScaler"
      ],
      "execution_count": 277,
      "outputs": []
    },
    {
      "cell_type": "code",
      "metadata": {
        "colab": {
          "base_uri": "https://localhost:8080/"
        },
        "id": "Hx76xmkjmeq3",
        "outputId": "320e46f0-f655-4b77-b907-095ee1a03f84"
      },
      "source": [
        "#mount drive\n",
        "from google.colab import drive\n",
        "drive.mount('/content/drive')"
      ],
      "execution_count": 278,
      "outputs": [
        {
          "output_type": "stream",
          "name": "stdout",
          "text": [
            "Drive already mounted at /content/drive; to attempt to forcibly remount, call drive.mount(\"/content/drive\", force_remount=True).\n"
          ]
        }
      ]
    },
    {
      "cell_type": "code",
      "metadata": {
        "id": "9V3-9rZBmjhE"
      },
      "source": [
        "#read csv file\n",
        "df=pd.read_csv('/content/drive/MyDrive/AlmaBetter/CAPSTONE PROJECTS/YES BANK STOCK CLOSING PRICE PREDICTION - SHASHANK BHATIA/data_YesBank_StockPrices.csv')"
      ],
      "execution_count": 279,
      "outputs": []
    },
    {
      "cell_type": "markdown",
      "metadata": {
        "id": "6spMuWcPud1K"
      },
      "source": [
        "# **DATA OVERVIEW**"
      ]
    },
    {
      "cell_type": "code",
      "metadata": {
        "colab": {
          "base_uri": "https://localhost:8080/",
          "height": 206
        },
        "id": "olbDVQ4wnWqx",
        "outputId": "69a9620b-c162-41e7-9d17-40cc5a65a41b"
      },
      "source": [
        "df.head()"
      ],
      "execution_count": 280,
      "outputs": [
        {
          "output_type": "execute_result",
          "data": {
            "text/html": [
              "<div>\n",
              "<style scoped>\n",
              "    .dataframe tbody tr th:only-of-type {\n",
              "        vertical-align: middle;\n",
              "    }\n",
              "\n",
              "    .dataframe tbody tr th {\n",
              "        vertical-align: top;\n",
              "    }\n",
              "\n",
              "    .dataframe thead th {\n",
              "        text-align: right;\n",
              "    }\n",
              "</style>\n",
              "<table border=\"1\" class=\"dataframe\">\n",
              "  <thead>\n",
              "    <tr style=\"text-align: right;\">\n",
              "      <th></th>\n",
              "      <th>Date</th>\n",
              "      <th>Open</th>\n",
              "      <th>High</th>\n",
              "      <th>Low</th>\n",
              "      <th>Close</th>\n",
              "    </tr>\n",
              "  </thead>\n",
              "  <tbody>\n",
              "    <tr>\n",
              "      <th>0</th>\n",
              "      <td>Jul-05</td>\n",
              "      <td>13.00</td>\n",
              "      <td>14.00</td>\n",
              "      <td>11.25</td>\n",
              "      <td>12.46</td>\n",
              "    </tr>\n",
              "    <tr>\n",
              "      <th>1</th>\n",
              "      <td>Aug-05</td>\n",
              "      <td>12.58</td>\n",
              "      <td>14.88</td>\n",
              "      <td>12.55</td>\n",
              "      <td>13.42</td>\n",
              "    </tr>\n",
              "    <tr>\n",
              "      <th>2</th>\n",
              "      <td>Sep-05</td>\n",
              "      <td>13.48</td>\n",
              "      <td>14.87</td>\n",
              "      <td>12.27</td>\n",
              "      <td>13.30</td>\n",
              "    </tr>\n",
              "    <tr>\n",
              "      <th>3</th>\n",
              "      <td>Oct-05</td>\n",
              "      <td>13.20</td>\n",
              "      <td>14.47</td>\n",
              "      <td>12.40</td>\n",
              "      <td>12.99</td>\n",
              "    </tr>\n",
              "    <tr>\n",
              "      <th>4</th>\n",
              "      <td>Nov-05</td>\n",
              "      <td>13.35</td>\n",
              "      <td>13.88</td>\n",
              "      <td>12.88</td>\n",
              "      <td>13.41</td>\n",
              "    </tr>\n",
              "  </tbody>\n",
              "</table>\n",
              "</div>"
            ],
            "text/plain": [
              "     Date   Open   High    Low  Close\n",
              "0  Jul-05  13.00  14.00  11.25  12.46\n",
              "1  Aug-05  12.58  14.88  12.55  13.42\n",
              "2  Sep-05  13.48  14.87  12.27  13.30\n",
              "3  Oct-05  13.20  14.47  12.40  12.99\n",
              "4  Nov-05  13.35  13.88  12.88  13.41"
            ]
          },
          "metadata": {},
          "execution_count": 280
        }
      ]
    },
    {
      "cell_type": "code",
      "metadata": {
        "colab": {
          "base_uri": "https://localhost:8080/",
          "height": 206
        },
        "id": "YjOthoQanZCC",
        "outputId": "9d9d882a-2b9c-41dd-9124-3966c6d4be5d"
      },
      "source": [
        "df.tail()"
      ],
      "execution_count": 281,
      "outputs": [
        {
          "output_type": "execute_result",
          "data": {
            "text/html": [
              "<div>\n",
              "<style scoped>\n",
              "    .dataframe tbody tr th:only-of-type {\n",
              "        vertical-align: middle;\n",
              "    }\n",
              "\n",
              "    .dataframe tbody tr th {\n",
              "        vertical-align: top;\n",
              "    }\n",
              "\n",
              "    .dataframe thead th {\n",
              "        text-align: right;\n",
              "    }\n",
              "</style>\n",
              "<table border=\"1\" class=\"dataframe\">\n",
              "  <thead>\n",
              "    <tr style=\"text-align: right;\">\n",
              "      <th></th>\n",
              "      <th>Date</th>\n",
              "      <th>Open</th>\n",
              "      <th>High</th>\n",
              "      <th>Low</th>\n",
              "      <th>Close</th>\n",
              "    </tr>\n",
              "  </thead>\n",
              "  <tbody>\n",
              "    <tr>\n",
              "      <th>180</th>\n",
              "      <td>Jul-20</td>\n",
              "      <td>25.60</td>\n",
              "      <td>28.30</td>\n",
              "      <td>11.10</td>\n",
              "      <td>11.95</td>\n",
              "    </tr>\n",
              "    <tr>\n",
              "      <th>181</th>\n",
              "      <td>Aug-20</td>\n",
              "      <td>12.00</td>\n",
              "      <td>17.16</td>\n",
              "      <td>11.85</td>\n",
              "      <td>14.37</td>\n",
              "    </tr>\n",
              "    <tr>\n",
              "      <th>182</th>\n",
              "      <td>Sep-20</td>\n",
              "      <td>14.30</td>\n",
              "      <td>15.34</td>\n",
              "      <td>12.75</td>\n",
              "      <td>13.15</td>\n",
              "    </tr>\n",
              "    <tr>\n",
              "      <th>183</th>\n",
              "      <td>Oct-20</td>\n",
              "      <td>13.30</td>\n",
              "      <td>14.01</td>\n",
              "      <td>12.11</td>\n",
              "      <td>12.42</td>\n",
              "    </tr>\n",
              "    <tr>\n",
              "      <th>184</th>\n",
              "      <td>Nov-20</td>\n",
              "      <td>12.41</td>\n",
              "      <td>14.90</td>\n",
              "      <td>12.21</td>\n",
              "      <td>14.67</td>\n",
              "    </tr>\n",
              "  </tbody>\n",
              "</table>\n",
              "</div>"
            ],
            "text/plain": [
              "       Date   Open   High    Low  Close\n",
              "180  Jul-20  25.60  28.30  11.10  11.95\n",
              "181  Aug-20  12.00  17.16  11.85  14.37\n",
              "182  Sep-20  14.30  15.34  12.75  13.15\n",
              "183  Oct-20  13.30  14.01  12.11  12.42\n",
              "184  Nov-20  12.41  14.90  12.21  14.67"
            ]
          },
          "metadata": {},
          "execution_count": 281
        }
      ]
    },
    {
      "cell_type": "code",
      "metadata": {
        "colab": {
          "base_uri": "https://localhost:8080/",
          "height": 300
        },
        "id": "oWEFvhLhumVl",
        "outputId": "d983d9f3-c612-43bd-b92e-cdc66a9eca84"
      },
      "source": [
        "df.describe()"
      ],
      "execution_count": 282,
      "outputs": [
        {
          "output_type": "execute_result",
          "data": {
            "text/html": [
              "<div>\n",
              "<style scoped>\n",
              "    .dataframe tbody tr th:only-of-type {\n",
              "        vertical-align: middle;\n",
              "    }\n",
              "\n",
              "    .dataframe tbody tr th {\n",
              "        vertical-align: top;\n",
              "    }\n",
              "\n",
              "    .dataframe thead th {\n",
              "        text-align: right;\n",
              "    }\n",
              "</style>\n",
              "<table border=\"1\" class=\"dataframe\">\n",
              "  <thead>\n",
              "    <tr style=\"text-align: right;\">\n",
              "      <th></th>\n",
              "      <th>Open</th>\n",
              "      <th>High</th>\n",
              "      <th>Low</th>\n",
              "      <th>Close</th>\n",
              "    </tr>\n",
              "  </thead>\n",
              "  <tbody>\n",
              "    <tr>\n",
              "      <th>count</th>\n",
              "      <td>185.000000</td>\n",
              "      <td>185.000000</td>\n",
              "      <td>185.000000</td>\n",
              "      <td>185.000000</td>\n",
              "    </tr>\n",
              "    <tr>\n",
              "      <th>mean</th>\n",
              "      <td>105.541405</td>\n",
              "      <td>116.104324</td>\n",
              "      <td>94.947838</td>\n",
              "      <td>105.204703</td>\n",
              "    </tr>\n",
              "    <tr>\n",
              "      <th>std</th>\n",
              "      <td>98.879850</td>\n",
              "      <td>106.333497</td>\n",
              "      <td>91.219415</td>\n",
              "      <td>98.583153</td>\n",
              "    </tr>\n",
              "    <tr>\n",
              "      <th>min</th>\n",
              "      <td>10.000000</td>\n",
              "      <td>11.240000</td>\n",
              "      <td>5.550000</td>\n",
              "      <td>9.980000</td>\n",
              "    </tr>\n",
              "    <tr>\n",
              "      <th>25%</th>\n",
              "      <td>33.800000</td>\n",
              "      <td>36.140000</td>\n",
              "      <td>28.510000</td>\n",
              "      <td>33.450000</td>\n",
              "    </tr>\n",
              "    <tr>\n",
              "      <th>50%</th>\n",
              "      <td>62.980000</td>\n",
              "      <td>72.550000</td>\n",
              "      <td>58.000000</td>\n",
              "      <td>62.540000</td>\n",
              "    </tr>\n",
              "    <tr>\n",
              "      <th>75%</th>\n",
              "      <td>153.000000</td>\n",
              "      <td>169.190000</td>\n",
              "      <td>138.350000</td>\n",
              "      <td>153.300000</td>\n",
              "    </tr>\n",
              "    <tr>\n",
              "      <th>max</th>\n",
              "      <td>369.950000</td>\n",
              "      <td>404.000000</td>\n",
              "      <td>345.500000</td>\n",
              "      <td>367.900000</td>\n",
              "    </tr>\n",
              "  </tbody>\n",
              "</table>\n",
              "</div>"
            ],
            "text/plain": [
              "             Open        High         Low       Close\n",
              "count  185.000000  185.000000  185.000000  185.000000\n",
              "mean   105.541405  116.104324   94.947838  105.204703\n",
              "std     98.879850  106.333497   91.219415   98.583153\n",
              "min     10.000000   11.240000    5.550000    9.980000\n",
              "25%     33.800000   36.140000   28.510000   33.450000\n",
              "50%     62.980000   72.550000   58.000000   62.540000\n",
              "75%    153.000000  169.190000  138.350000  153.300000\n",
              "max    369.950000  404.000000  345.500000  367.900000"
            ]
          },
          "metadata": {},
          "execution_count": 282
        }
      ]
    },
    {
      "cell_type": "code",
      "metadata": {
        "colab": {
          "base_uri": "https://localhost:8080/"
        },
        "id": "5IGl7ggyumSz",
        "outputId": "cffb321b-5f71-47a6-92a8-5306b5bae11b"
      },
      "source": [
        "df.info()"
      ],
      "execution_count": 283,
      "outputs": [
        {
          "output_type": "stream",
          "name": "stdout",
          "text": [
            "<class 'pandas.core.frame.DataFrame'>\n",
            "RangeIndex: 185 entries, 0 to 184\n",
            "Data columns (total 5 columns):\n",
            " #   Column  Non-Null Count  Dtype  \n",
            "---  ------  --------------  -----  \n",
            " 0   Date    185 non-null    object \n",
            " 1   Open    185 non-null    float64\n",
            " 2   High    185 non-null    float64\n",
            " 3   Low     185 non-null    float64\n",
            " 4   Close   185 non-null    float64\n",
            "dtypes: float64(4), object(1)\n",
            "memory usage: 7.4+ KB\n"
          ]
        }
      ]
    },
    {
      "cell_type": "code",
      "metadata": {
        "colab": {
          "base_uri": "https://localhost:8080/"
        },
        "id": "VH9Em_vc3Zg4",
        "outputId": "ed92623d-cd43-4875-d665-e6148403f695"
      },
      "source": [
        "df.columns"
      ],
      "execution_count": 284,
      "outputs": [
        {
          "output_type": "execute_result",
          "data": {
            "text/plain": [
              "Index(['Date', 'Open', 'High', 'Low', 'Close'], dtype='object')"
            ]
          },
          "metadata": {},
          "execution_count": 284
        }
      ]
    },
    {
      "cell_type": "code",
      "metadata": {
        "colab": {
          "base_uri": "https://localhost:8080/"
        },
        "id": "ZoCew7u33bLG",
        "outputId": "5cfa5b77-e4c4-495c-eb8e-840515574468"
      },
      "source": [
        "df.shape"
      ],
      "execution_count": 285,
      "outputs": [
        {
          "output_type": "execute_result",
          "data": {
            "text/plain": [
              "(185, 5)"
            ]
          },
          "metadata": {},
          "execution_count": 285
        }
      ]
    },
    {
      "cell_type": "markdown",
      "metadata": {
        "id": "OzXQfuVSkB-t"
      },
      "source": [
        "# **DATA INFORMATION**\n",
        "\n",
        "\n",
        "---\n",
        "We have 185 rows and 4 columns in our dataset with no null values.Here our dependent variable will be *Close*, and independent variables are - *Open, High  and Low*.\n",
        "\n",
        "* **Date:**  It denotes the month and year of the investment made.\n",
        "* **Open:**  Open means the price at which a stock started trading that month.\n",
        "* **High:**  refers to the maximum price that month.\n",
        "* **Low:**   refers to the minimum price that month.\n",
        "* **Close:** refers to the final trading price for that month, which we have to predict using regression techniques."
      ]
    },
    {
      "cell_type": "code",
      "metadata": {
        "id": "-oMzgR4Y3z8v"
      },
      "source": [
        "#copying data to preserve orignal file\n",
        "df1= df.copy()"
      ],
      "execution_count": 286,
      "outputs": []
    },
    {
      "cell_type": "markdown",
      "metadata": {
        "id": "JQdy9YLQyFVq"
      },
      "source": [
        "# **EDA AND Data Pre-Processing**"
      ]
    },
    {
      "cell_type": "markdown",
      "metadata": {
        "id": "rSwyMstCDb3p"
      },
      "source": [
        "BIFURCATE DEPENDENT AND INDEPENDENT VARIABLES"
      ]
    },
    {
      "cell_type": "code",
      "metadata": {
        "id": "Lo7dOR42DbOq"
      },
      "source": [
        "dep_var=df1[['High','Low','Open']]\n",
        "indep_var=df1['Close']"
      ],
      "execution_count": 287,
      "outputs": []
    },
    {
      "cell_type": "markdown",
      "metadata": {
        "id": "JI9bDWdd_TFg"
      },
      "source": [
        "**HANDLING DATE**"
      ]
    },
    {
      "cell_type": "code",
      "metadata": {
        "id": "8xM_xdxvwKKQ"
      },
      "source": [
        "# converting 'Date' into datetime - YYYY-MM-DD\n",
        "from datetime import datetime\n",
        "df1['Date'] = pd.to_datetime(df1['Date'].apply(lambda x: datetime.strptime(x, '%b-%y')))"
      ],
      "execution_count": 288,
      "outputs": []
    },
    {
      "cell_type": "code",
      "metadata": {
        "id": "BBrdLNo6umPt"
      },
      "source": [
        "#set date as index\n",
        "df1.set_index('Date',inplace=True)"
      ],
      "execution_count": 289,
      "outputs": []
    },
    {
      "cell_type": "code",
      "metadata": {
        "colab": {
          "base_uri": "https://localhost:8080/",
          "height": 112
        },
        "id": "m8h1TmrMumBN",
        "outputId": "a1bd1dfb-589c-46e8-de0e-d2bcfa979448"
      },
      "source": [
        "#check if changes are being reflected\n",
        "df1.head(1)"
      ],
      "execution_count": 290,
      "outputs": [
        {
          "output_type": "execute_result",
          "data": {
            "text/html": [
              "<div>\n",
              "<style scoped>\n",
              "    .dataframe tbody tr th:only-of-type {\n",
              "        vertical-align: middle;\n",
              "    }\n",
              "\n",
              "    .dataframe tbody tr th {\n",
              "        vertical-align: top;\n",
              "    }\n",
              "\n",
              "    .dataframe thead th {\n",
              "        text-align: right;\n",
              "    }\n",
              "</style>\n",
              "<table border=\"1\" class=\"dataframe\">\n",
              "  <thead>\n",
              "    <tr style=\"text-align: right;\">\n",
              "      <th></th>\n",
              "      <th>Open</th>\n",
              "      <th>High</th>\n",
              "      <th>Low</th>\n",
              "      <th>Close</th>\n",
              "    </tr>\n",
              "    <tr>\n",
              "      <th>Date</th>\n",
              "      <th></th>\n",
              "      <th></th>\n",
              "      <th></th>\n",
              "      <th></th>\n",
              "    </tr>\n",
              "  </thead>\n",
              "  <tbody>\n",
              "    <tr>\n",
              "      <th>2005-07-01</th>\n",
              "      <td>13.0</td>\n",
              "      <td>14.0</td>\n",
              "      <td>11.25</td>\n",
              "      <td>12.46</td>\n",
              "    </tr>\n",
              "  </tbody>\n",
              "</table>\n",
              "</div>"
            ],
            "text/plain": [
              "            Open  High    Low  Close\n",
              "Date                                \n",
              "2005-07-01  13.0  14.0  11.25  12.46"
            ]
          },
          "metadata": {},
          "execution_count": 290
        }
      ]
    },
    {
      "cell_type": "markdown",
      "metadata": {
        "id": "cTcSHCtK_Yam"
      },
      "source": [
        "**CHECK AND HANDLE DUPLICATES**"
      ]
    },
    {
      "cell_type": "code",
      "metadata": {
        "colab": {
          "base_uri": "https://localhost:8080/"
        },
        "id": "bdX201ddstWS",
        "outputId": "39670ba3-f53f-4be3-a07b-bb07ed42d1ff"
      },
      "source": [
        "#check duplicate entries\n",
        "len(df1[df1.duplicated()])"
      ],
      "execution_count": 291,
      "outputs": [
        {
          "output_type": "execute_result",
          "data": {
            "text/plain": [
              "0"
            ]
          },
          "metadata": {},
          "execution_count": 291
        }
      ]
    },
    {
      "cell_type": "markdown",
      "metadata": {
        "id": "y8qqMuYR_hpc"
      },
      "source": [
        "No duplicates in the data"
      ]
    },
    {
      "cell_type": "markdown",
      "metadata": {
        "id": "15FYNWT9_k_U"
      },
      "source": [
        "**UNIVARIATE ANALYSIS**"
      ]
    },
    {
      "cell_type": "markdown",
      "metadata": {
        "id": "MdZphtIlAhkZ"
      },
      "source": [
        "INDEPENDANT VARIABLES"
      ]
    },
    {
      "cell_type": "code",
      "metadata": {
        "colab": {
          "base_uri": "https://localhost:8080/",
          "height": 1000
        },
        "id": "uHrJTEAKEAji",
        "outputId": "0df464e1-c54e-4b56-b320-601ffa6ad66e"
      },
      "source": [
        "for var in dep_var:\n",
        "    plt.figure(figsize=(15,6))\n",
        "    plt.subplot(1, 2, 1)\n",
        "    fig = sns.distplot(df1[var].dropna())\n",
        "    fig.set_ylabel(' ')\n",
        "    fig.set_xlabel(var)\n",
        "\n",
        "    plt.subplot(1, 2, 2)\n",
        "    fig = sns.boxplot(y=df1[var])\n",
        "    fig.set_title('')\n",
        "    fig.set_ylabel(var)\n"
      ],
      "execution_count": 292,
      "outputs": [
        {
          "output_type": "stream",
          "name": "stderr",
          "text": [
            "/usr/local/lib/python3.7/dist-packages/seaborn/distributions.py:2619: FutureWarning: `distplot` is a deprecated function and will be removed in a future version. Please adapt your code to use either `displot` (a figure-level function with similar flexibility) or `histplot` (an axes-level function for histograms).\n",
            "  warnings.warn(msg, FutureWarning)\n",
            "/usr/local/lib/python3.7/dist-packages/seaborn/distributions.py:2619: FutureWarning: `distplot` is a deprecated function and will be removed in a future version. Please adapt your code to use either `displot` (a figure-level function with similar flexibility) or `histplot` (an axes-level function for histograms).\n",
            "  warnings.warn(msg, FutureWarning)\n",
            "/usr/local/lib/python3.7/dist-packages/seaborn/distributions.py:2619: FutureWarning: `distplot` is a deprecated function and will be removed in a future version. Please adapt your code to use either `displot` (a figure-level function with similar flexibility) or `histplot` (an axes-level function for histograms).\n",
            "  warnings.warn(msg, FutureWarning)\n"
          ]
        },
        {
          "output_type": "display_data",
          "data": {
            "image/png": "[encoded data removed]",
            "text/plain": [
              "<Figure size 1080x432 with 2 Axes>"
            ]
          },
          "metadata": {
            "needs_background": "light"
          }
        },
        {
          "output_type": "display_data",
          "data": {
            "image/png": "[encoded data removed]",
            "text/plain": [
              "<Figure size 1080x432 with 2 Axes>"
            ]
          },
          "metadata": {
            "needs_background": "light"
          }
        },
        {
          "output_type": "display_data",
          "data": {
            "image/png": "[encoded data removed]",
            "text/plain": [
              "<Figure size 1080x432 with 2 Axes>"
            ]
          },
          "metadata": {
            "needs_background": "light"
          }
        }
      ]
    },
    {
      "cell_type": "markdown",
      "metadata": {
        "id": "RHMQ1LECB2g4"
      },
      "source": [
        "DEPENDANT VARIABLE"
      ]
    },
    {
      "cell_type": "code",
      "metadata": {
        "colab": {
          "base_uri": "https://localhost:8080/",
          "height": 460
        },
        "id": "wSSZJTKrK3BY",
        "outputId": "24697db4-43dc-4ee3-f071-f30fb15d86f3"
      },
      "source": [
        "\n",
        "plt.figure(figsize=(15,6))\n",
        "plt.subplot(1, 2, 1)\n",
        "fig = sns.distplot(df1['Close'].dropna())\n",
        "fig.set_ylabel(' ')\n",
        "fig.set_xlabel(var)\n",
        "\n",
        "plt.subplot(1, 2, 2)\n",
        "fig = sns.boxplot(y=df1['Close'])\n",
        "fig.set_title('')\n",
        "fig.set_ylabel(var)"
      ],
      "execution_count": 293,
      "outputs": [
        {
          "output_type": "stream",
          "name": "stderr",
          "text": [
            "/usr/local/lib/python3.7/dist-packages/seaborn/distributions.py:2619: FutureWarning: `distplot` is a deprecated function and will be removed in a future version. Please adapt your code to use either `displot` (a figure-level function with similar flexibility) or `histplot` (an axes-level function for histograms).\n",
            "  warnings.warn(msg, FutureWarning)\n"
          ]
        },
        {
          "output_type": "execute_result",
          "data": {
            "text/plain": [
              "Text(0, 0.5, 'Open')"
            ]
          },
          "metadata": {},
          "execution_count": 293
        },
        {
          "output_type": "display_data",
          "data": {
            "image/png": "[encoded data removed]",
            "text/plain": [
              "<Figure size 1080x432 with 2 Axes>"
            ]
          },
          "metadata": {
            "needs_background": "light"
          }
        }
      ]
    },
    {
      "cell_type": "markdown",
      "metadata": {
        "id": "ROp9IyfSLinX"
      },
      "source": [
        "LOG TRANSFORMATION"
      ]
    },
    {
      "cell_type": "code",
      "metadata": {
        "colab": {
          "base_uri": "https://localhost:8080/",
          "height": 1000
        },
        "id": "aYyNOK9ALkUb",
        "outputId": "e855d0d3-757e-4beb-dbc2-d8a330ee9e17"
      },
      "source": [
        "#log \n",
        "for var in dep_var:\n",
        "    plt.figure(figsize=(15,6))\n",
        "    plt.subplot(1, 2, 1)\n",
        "    fig = sns.distplot(np.log10(df1[var]))\n",
        "    fig.set_ylabel(' ')\n",
        "    fig.set_xlabel(var)\n",
        "\n",
        "    plt.subplot(1, 2, 2)\n",
        "    fig = sns.boxplot(y=np.log10(df1[var]))\n",
        "    fig.set_title('')\n",
        "    fig.set_ylabel(var)"
      ],
      "execution_count": 294,
      "outputs": [
        {
          "output_type": "stream",
          "name": "stderr",
          "text": [
            "/usr/local/lib/python3.7/dist-packages/seaborn/distributions.py:2619: FutureWarning: `distplot` is a deprecated function and will be removed in a future version. Please adapt your code to use either `displot` (a figure-level function with similar flexibility) or `histplot` (an axes-level function for histograms).\n",
            "  warnings.warn(msg, FutureWarning)\n",
            "/usr/local/lib/python3.7/dist-packages/seaborn/distributions.py:2619: FutureWarning: `distplot` is a deprecated function and will be removed in a future version. Please adapt your code to use either `displot` (a figure-level function with similar flexibility) or `histplot` (an axes-level function for histograms).\n",
            "  warnings.warn(msg, FutureWarning)\n",
            "/usr/local/lib/python3.7/dist-packages/seaborn/distributions.py:2619: FutureWarning: `distplot` is a deprecated function and will be removed in a future version. Please adapt your code to use either `displot` (a figure-level function with similar flexibility) or `histplot` (an axes-level function for histograms).\n",
            "  warnings.warn(msg, FutureWarning)\n"
          ]
        },
        {
          "output_type": "display_data",
          "data": {
            "image/png": "[encoded data removed]",
            "text/plain": [
              "<Figure size 1080x432 with 2 Axes>"
            ]
          },
          "metadata": {
            "needs_background": "light"
          }
        },
        {
          "output_type": "display_data",
          "data": {
            "image/png": "[encoded data removed]",
            "text/plain": [
              "<Figure size 1080x432 with 2 Axes>"
            ]
          },
          "metadata": {
            "needs_background": "light"
          }
        },
        {
          "output_type": "display_data",
          "data": {
            "image/png": "[encoded data removed]",
            "text/plain": [
              "<Figure size 1080x432 with 2 Axes>"
            ]
          },
          "metadata": {
            "needs_background": "light"
          }
        }
      ]
    },
    {
      "cell_type": "markdown",
      "metadata": {
        "id": "HTXaatPewmnN"
      },
      "source": [
        "minmax scaler"
      ]
    },
    {
      "cell_type": "markdown",
      "metadata": {
        "id": "g-yu61T0Co1b"
      },
      "source": [
        "**BIVARIATE ANALYSIS**"
      ]
    },
    {
      "cell_type": "code",
      "metadata": {
        "colab": {
          "base_uri": "https://localhost:8080/",
          "height": 1000
        },
        "id": "OYxT-0jSAH9M",
        "outputId": "c0a44142-c0bb-4603-9785-30471e872931"
      },
      "source": [
        "for col in dep_var:\n",
        "   fig = plt.figure(figsize=(9, 6))\n",
        "   ax = fig.gca()\n",
        "   feature = df1[col]\n",
        "   label = df1['Close']\n",
        "   correlation = feature.corr(label)\n",
        "   plt.scatter(x=feature, y=label)\n",
        "   plt.xlabel(col)\n",
        "   plt.ylabel('closing Price')\n",
        "   ax.set_title('closing Price - ' + col + ' correlation: ' + str(correlation))\n",
        "   z = np.polyfit(df1[col], df1['Close'], 1)\n",
        "   y_hat = np.poly1d(z)(df1[col])\n",
        " \n",
        "   plt.plot(df1[col], y_hat, \"r--\", lw=1)\n",
        " \n",
        "plt.show()"
      ],
      "execution_count": 295,
      "outputs": [
        {
          "output_type": "display_data",
          "data": {
            "image/png": "[encoded data removed]",
            "text/plain": [
              "<Figure size 648x432 with 1 Axes>"
            ]
          },
          "metadata": {
            "needs_background": "light"
          }
        },
        {
          "output_type": "display_data",
          "data": {
            "image/png": "[encoded data removed]",
            "text/plain": [
              "<Figure size 648x432 with 1 Axes>"
            ]
          },
          "metadata": {
            "needs_background": "light"
          }
        },
        {
          "output_type": "display_data",
          "data": {
            "image/png": "[encoded data removed]",
            "text/plain": [
              "<Figure size 648x432 with 1 Axes>"
            ]
          },
          "metadata": {
            "needs_background": "light"
          }
        }
      ]
    },
    {
      "cell_type": "markdown",
      "metadata": {
        "id": "y1At8y09_b1S"
      },
      "source": [
        "**CORRELATION**"
      ]
    },
    {
      "cell_type": "code",
      "metadata": {
        "colab": {
          "base_uri": "https://localhost:8080/",
          "height": 324
        },
        "id": "ezT75f9FOBFT",
        "outputId": "459bd844-418b-4b8f-aba6-146a0bef0ab7"
      },
      "source": [
        "#correlation plot\n",
        "plt.figure(figsize=(10,5))\n",
        "sns.heatmap(df1.corr(), annot = True, cmap='coolwarm')\n",
        "plt.show()"
      ],
      "execution_count": 296,
      "outputs": [
        {
          "output_type": "display_data",
          "data": {
            "image/png": "[encoded data removed]",
            "text/plain": [
              "<Figure size 720x360 with 2 Axes>"
            ]
          },
          "metadata": {
            "needs_background": "light"
          }
        }
      ]
    },
    {
      "cell_type": "code",
      "metadata": {
        "id": "Twdo4QzPqPPC"
      },
      "source": [
        "#Multicollinearity\n",
        "\n",
        "def calc_vif(X):\n",
        " \n",
        "   # Calculating VIF\n",
        "   vif = pd.DataFrame()\n",
        "   vif[\"variables\"] = X.columns\n",
        "   vif[\"VIF\"] = [variance_inflation_factor(X.values, i) for i in range(X.shape[1])]\n",
        " \n",
        "   return(vif)"
      ],
      "execution_count": 297,
      "outputs": []
    },
    {
      "cell_type": "code",
      "metadata": {
        "colab": {
          "base_uri": "https://localhost:8080/",
          "height": 143
        },
        "id": "J3jEdu-yqimK",
        "outputId": "53f35173-e250-481d-eaf5-fc272ad5ff6d"
      },
      "source": [
        "calc_vif(dep_var)"
      ],
      "execution_count": 298,
      "outputs": [
        {
          "output_type": "execute_result",
          "data": {
            "text/html": [
              "<div>\n",
              "<style scoped>\n",
              "    .dataframe tbody tr th:only-of-type {\n",
              "        vertical-align: middle;\n",
              "    }\n",
              "\n",
              "    .dataframe tbody tr th {\n",
              "        vertical-align: top;\n",
              "    }\n",
              "\n",
              "    .dataframe thead th {\n",
              "        text-align: right;\n",
              "    }\n",
              "</style>\n",
              "<table border=\"1\" class=\"dataframe\">\n",
              "  <thead>\n",
              "    <tr style=\"text-align: right;\">\n",
              "      <th></th>\n",
              "      <th>variables</th>\n",
              "      <th>VIF</th>\n",
              "    </tr>\n",
              "  </thead>\n",
              "  <tbody>\n",
              "    <tr>\n",
              "      <th>0</th>\n",
              "      <td>High</td>\n",
              "      <td>167.057523</td>\n",
              "    </tr>\n",
              "    <tr>\n",
              "      <th>1</th>\n",
              "      <td>Low</td>\n",
              "      <td>71.574137</td>\n",
              "    </tr>\n",
              "    <tr>\n",
              "      <th>2</th>\n",
              "      <td>Open</td>\n",
              "      <td>175.185704</td>\n",
              "    </tr>\n",
              "  </tbody>\n",
              "</table>\n",
              "</div>"
            ],
            "text/plain": [
              "  variables         VIF\n",
              "0      High  167.057523\n",
              "1       Low   71.574137\n",
              "2      Open  175.185704"
            ]
          },
          "metadata": {},
          "execution_count": 298
        }
      ]
    },
    {
      "cell_type": "markdown",
      "metadata": {
        "id": "rMcAglXqxIJn"
      },
      "source": [
        "***DATAFRAME TO STORE EVALUATION METRICS ***"
      ]
    },
    {
      "cell_type": "code",
      "metadata": {
        "id": "6sMvQWkfxHr1"
      },
      "source": [
        "#empty data frame creation\n",
        "i=0\n",
        "error_df=pd.DataFrame()"
      ],
      "execution_count": 299,
      "outputs": []
    },
    {
      "cell_type": "markdown",
      "metadata": {
        "id": "moEGfvw_zc5T"
      },
      "source": [
        "**DATA BIFURCATION**"
      ]
    },
    {
      "cell_type": "code",
      "metadata": {
        "id": "nByKE-zZRS8M"
      },
      "source": [
        "#dependent and independent variables split\n",
        "dep_var=df1[['High','Low','Open']]\n",
        "indep_var=df1['Close']"
      ],
      "execution_count": 300,
      "outputs": []
    },
    {
      "cell_type": "markdown",
      "metadata": {
        "id": "K8FVKrEGHZBL"
      },
      "source": [
        "# **LINEAR REGRESSION**"
      ]
    },
    {
      "cell_type": "code",
      "metadata": {
        "colab": {
          "base_uri": "https://localhost:8080/"
        },
        "id": "eebIP7gwUklQ",
        "outputId": "87130cab-4893-4553-d6b5-ea91bfc10454"
      },
      "source": [
        "#TRAIN-TEST data split\n",
        "\n",
        "x_train, x_test,y_train, y_test = train_test_split(np.log10(dep_var),np.log10(indep_var),test_size=.20,random_state=1)\n",
        "print(x_train.shape)\n",
        "print(x_test.shape)"
      ],
      "execution_count": 301,
      "outputs": [
        {
          "output_type": "stream",
          "name": "stdout",
          "text": [
            "(148, 3)\n",
            "(37, 3)\n"
          ]
        }
      ]
    },
    {
      "cell_type": "code",
      "metadata": {
        "id": "QWWf-UtOUklR"
      },
      "source": [
        "# Fitting Multiple Linear Regression to the Training set\n",
        "reg = LR()\n",
        "reg = LR().fit(x_train, y_train)"
      ],
      "execution_count": 302,
      "outputs": []
    },
    {
      "cell_type": "code",
      "metadata": {
        "id": "SJXwfAIjUklR"
      },
      "source": [
        "#predictions\n",
        "y_pred = reg.predict(x_test)"
      ],
      "execution_count": 303,
      "outputs": []
    },
    {
      "cell_type": "code",
      "metadata": {
        "colab": {
          "base_uri": "https://localhost:8080/"
        },
        "id": "MMA82gln0nkZ",
        "outputId": "3c9676bc-ad34-4fa0-f32b-88783b59d9a3"
      },
      "source": [
        "reg.score(x_train, y_train)"
      ],
      "execution_count": 304,
      "outputs": [
        {
          "output_type": "execute_result",
          "data": {
            "text/plain": [
              "0.9948378417468651"
            ]
          },
          "metadata": {},
          "execution_count": 304
        }
      ]
    },
    {
      "cell_type": "code",
      "metadata": {
        "colab": {
          "base_uri": "https://localhost:8080/"
        },
        "id": "cMDnEfmd0jr6",
        "outputId": "d8d0857e-9545-4475-9a2f-a07d793a12d1"
      },
      "source": [
        "reg.coef_"
      ],
      "execution_count": 305,
      "outputs": [
        {
          "output_type": "execute_result",
          "data": {
            "text/plain": [
              "array([ 0.85470307,  0.70624523, -0.56089497])"
            ]
          },
          "metadata": {},
          "execution_count": 305
        }
      ]
    },
    {
      "cell_type": "markdown",
      "metadata": {
        "id": "y4qx1aRg0-TK"
      },
      "source": [
        "**EVALUATION**"
      ]
    },
    {
      "cell_type": "code",
      "metadata": {
        "colab": {
          "base_uri": "https://localhost:8080/"
        },
        "id": "uXxTgEeyVC_d",
        "outputId": "06a2d216-b4df-4b28-e110-1c65d9a07c52"
      },
      "source": [
        "#evaluation metrics\n",
        "MAE=mean_absolute_error(10**(y_test), 10**(y_pred))\n",
        "print(\"MAE :\" ,MAE)\n",
        "\n",
        "MSE  = mean_squared_error(10**(y_test), 10**(y_pred))\n",
        "print(\"MSE :\" , MSE)\n",
        "\n",
        "RMSE = np.sqrt(MSE)\n",
        "print(\"RMSE :\" ,RMSE)\n",
        "\n",
        "\n",
        "r2 = r2_score(10**(y_test),10**(y_pred))\n",
        "print('R2 : ',r2)\n",
        "\n",
        "adj_r2=1-(1-r2_score(10**(y_test), 10**(y_pred)))*((x_test.shape[0]-1)/(x_test.shape[0]-x_test.shape[1]-1))\n",
        "print(\"Adjusted R2 : \",adj_r2)\n",
        "c\n"
      ],
      "execution_count": 306,
      "outputs": [
        {
          "output_type": "stream",
          "name": "stdout",
          "text": [
            "MAE : 3.16745509028831\n",
            "MSE : 20.617846376984083\n",
            "RMSE : 4.540687874869191\n",
            "R2 :  0.9977732938508455\n",
            "Adjusted R2 :  0.9975708660191042\n"
          ]
        }
      ]
    },
    {
      "cell_type": "code",
      "metadata": {
        "id": "MxzrytXAxhIr"
      },
      "source": [
        "#Inserting errors in dataframe\n",
        "error_df.loc[i,\"Model_Name\"]='linear regression'\n",
        "error_df.loc[i,\"MAE\"]=round(MAE,2)\n",
        "error_df.loc[i,\"MSE\"]=round(MSE,2)\n",
        "error_df.loc[i,\"RMSE\"]=round(RMSE,2)\n",
        "error_df.loc[i,\"r2 score\"]=round(r2,6)\n",
        "error_df.loc[i,\"adjusted r2 \"]=round(adj_r2,6)\n",
        "\n",
        "i+=1"
      ],
      "execution_count": 307,
      "outputs": []
    },
    {
      "cell_type": "code",
      "metadata": {
        "colab": {
          "base_uri": "https://localhost:8080/",
          "height": 81
        },
        "id": "yEcAG14uyIu9",
        "outputId": "6bb476cc-f330-4d5f-c4d2-bf3dfc4d8323"
      },
      "source": [
        "error_df"
      ],
      "execution_count": 308,
      "outputs": [
        {
          "output_type": "execute_result",
          "data": {
            "text/html": [
              "<div>\n",
              "<style scoped>\n",
              "    .dataframe tbody tr th:only-of-type {\n",
              "        vertical-align: middle;\n",
              "    }\n",
              "\n",
              "    .dataframe tbody tr th {\n",
              "        vertical-align: top;\n",
              "    }\n",
              "\n",
              "    .dataframe thead th {\n",
              "        text-align: right;\n",
              "    }\n",
              "</style>\n",
              "<table border=\"1\" class=\"dataframe\">\n",
              "  <thead>\n",
              "    <tr style=\"text-align: right;\">\n",
              "      <th></th>\n",
              "      <th>Model_Name</th>\n",
              "      <th>MAE</th>\n",
              "      <th>MSE</th>\n",
              "      <th>RMSE</th>\n",
              "      <th>r2 score</th>\n",
              "      <th>adjusted r2</th>\n",
              "    </tr>\n",
              "  </thead>\n",
              "  <tbody>\n",
              "    <tr>\n",
              "      <th>0</th>\n",
              "      <td>linear regression</td>\n",
              "      <td>3.17</td>\n",
              "      <td>20.62</td>\n",
              "      <td>4.54</td>\n",
              "      <td>0.997773</td>\n",
              "      <td>0.997571</td>\n",
              "    </tr>\n",
              "  </tbody>\n",
              "</table>\n",
              "</div>"
            ],
            "text/plain": [
              "          Model_Name   MAE    MSE  RMSE  r2 score  adjusted r2 \n",
              "0  linear regression  3.17  20.62  4.54  0.997773      0.997571"
            ]
          },
          "metadata": {},
          "execution_count": 308
        }
      ]
    },
    {
      "cell_type": "markdown",
      "metadata": {
        "id": "Oba2hpk22AmD"
      },
      "source": [
        "**VISUALIZATION**"
      ]
    },
    {
      "cell_type": "code",
      "metadata": {
        "colab": {
          "base_uri": "https://localhost:8080/",
          "height": 334
        },
        "id": "YTboBGrT1Jta",
        "outputId": "3dd80977-62bd-4cb2-f8b3-3bf10c8d52c8"
      },
      "source": [
        "plt.figure(figsize=(10,5))\n",
        "plt.plot(10**(y_pred))\n",
        "plt.plot(np.array(10**(y_test)))\n",
        "plt.legend([\"Predicted\",\"Actual\"])\n",
        "plt.xlabel('No of Test Data')\n",
        "plt.show()"
      ],
      "execution_count": 309,
      "outputs": [
        {
          "output_type": "display_data",
          "data": {
            "image/png": "[encoded data removed]",
            "text/plain": [
              "<Figure size 720x360 with 1 Axes>"
            ]
          },
          "metadata": {
            "needs_background": "light"
          }
        }
      ]
    },
    {
      "cell_type": "markdown",
      "metadata": {
        "id": "-lh2PqIf8wWg"
      },
      "source": [
        "**Hetroscadacity**"
      ]
    },
    {
      "cell_type": "code",
      "metadata": {
        "colab": {
          "base_uri": "https://localhost:8080/",
          "height": 295
        },
        "id": "k2Fiu1a5n4d9",
        "outputId": "f23432d7-8693-4560-9865-ecfd4eb3b42f"
      },
      "source": [
        "# Plotting scatter plot between residual and fitted values\n",
        "residual= y_test-y_pred\n",
        "plt.scatter(y_pred, residual,c='red')\n",
        "plt.title('Scatter plot between residual and actual close values')\n",
        "plt.xlabel('Predicted Profit')\n",
        "plt.ylabel('Residual')\n",
        "plt.show()"
      ],
      "execution_count": 310,
      "outputs": [
        {
          "output_type": "display_data",
          "data": {
            "image/png": "[encoded data removed]",
            "text/plain": [
              "<Figure size 432x288 with 1 Axes>"
            ]
          },
          "metadata": {
            "needs_background": "light"
          }
        }
      ]
    },
    {
      "cell_type": "markdown",
      "metadata": {
        "id": "HURfYLOszS5o"
      },
      "source": [
        "MINMAX"
      ]
    },
    {
      "cell_type": "code",
      "metadata": {
        "id": "0izadrZbzT0I"
      },
      "source": [
        "x_train, x_test,y_train, y_test = train_test_split((dep_var),(indep_var),test_size=.20,random_state=1)\n",
        "x_train = scaler.fit_transform(x_train)\n",
        "x_test = scaler.transform(x_test)"
      ],
      "execution_count": 311,
      "outputs": []
    },
    {
      "cell_type": "code",
      "metadata": {
        "id": "sFnaz6RuzYlZ"
      },
      "source": [
        "# Fitting Multiple Linear Regression to the Training set\n",
        "reg = LR()\n",
        "reg = LR().fit(x_train, y_train)"
      ],
      "execution_count": 312,
      "outputs": []
    },
    {
      "cell_type": "code",
      "metadata": {
        "id": "vSA73khxzYlZ"
      },
      "source": [
        "#predictions\n",
        "y_pred = reg.predict(x_test)"
      ],
      "execution_count": 313,
      "outputs": []
    },
    {
      "cell_type": "code",
      "metadata": {
        "colab": {
          "base_uri": "https://localhost:8080/"
        },
        "id": "FEDO1GdWzewH",
        "outputId": "0cbc3dba-9ee4-4abf-ada7-d471a4f253bf"
      },
      "source": [
        "#evaluation metrics\n",
        "MAE=mean_absolute_error((y_test), (y_pred))\n",
        "print(\"MAE :\" ,MAE)\n",
        "\n",
        "MSE  = mean_squared_error((y_test), (y_pred))\n",
        "print(\"MSE :\" , MSE)\n",
        "\n",
        "RMSE = np.sqrt(MSE)\n",
        "print(\"RMSE :\" ,RMSE)\n",
        "\n",
        "r2 = r2_score((y_test),(y_pred))\n",
        "print(r2)\n",
        "\n",
        "adj_r2=1-(1-r2_score((y_test), (y_pred)))*((x_test.shape[0]-1)/(x_test.shape[0]-x_test.shape[1]-1))\n",
        "print(\"Adjusted R2 : \",adj_r2)"
      ],
      "execution_count": 314,
      "outputs": [
        {
          "output_type": "stream",
          "name": "stdout",
          "text": [
            "MAE : 3.052764712964646\n",
            "MSE : 19.988578593595022\n",
            "RMSE : 4.470858820584142\n",
            "0.9978412541225983\n",
            "Adjusted R2 :  0.9976450044973799\n"
          ]
        }
      ]
    },
    {
      "cell_type": "code",
      "metadata": {
        "id": "_xMt33aCzirw"
      },
      "source": [
        "#Inserting errors in dataframe\n",
        "error_df.loc[i,\"Model_Name\"]='linear regression - MINMAX'\n",
        "error_df.loc[i,\"MAE\"]=round(MAE,2)\n",
        "error_df.loc[i,\"MSE\"]=round(MSE,2)\n",
        "error_df.loc[i,\"RMSE\"]=round(RMSE,2)\n",
        "error_df.loc[i,\"r2 score\"]=round(r2,6)\n",
        "error_df.loc[i,\"adjusted r2 \"]=round(adj_r2,6)\n",
        "\n",
        "i+=1"
      ],
      "execution_count": 315,
      "outputs": []
    },
    {
      "cell_type": "markdown",
      "metadata": {
        "id": "aqVjHH8Q3kLB"
      },
      "source": [
        "log+minmax"
      ]
    },
    {
      "cell_type": "code",
      "metadata": {
        "id": "aigmhESc3l6v"
      },
      "source": [
        "x_train, x_test,y_train, y_test = train_test_split((dep_var),(indep_var),test_size=.20,random_state=1)\n"
      ],
      "execution_count": 350,
      "outputs": []
    },
    {
      "cell_type": "code",
      "metadata": {
        "id": "KpnBWlfz3u6n"
      },
      "source": [
        "# Fitting Multiple Linear Regression to the Training set\n",
        "reg = LR()\n",
        "reg = LR().fit(x_train, y_train)"
      ],
      "execution_count": 351,
      "outputs": []
    },
    {
      "cell_type": "code",
      "metadata": {
        "id": "XqrNOHSV3u6n"
      },
      "source": [
        "#predictions\n",
        "y_pred = reg.predict(x_test)"
      ],
      "execution_count": 352,
      "outputs": []
    },
    {
      "cell_type": "code",
      "metadata": {
        "id": "fWKRew4t35AZ"
      },
      "source": [
        ""
      ],
      "execution_count": 318,
      "outputs": []
    },
    {
      "cell_type": "code",
      "metadata": {
        "colab": {
          "base_uri": "https://localhost:8080/"
        },
        "id": "nvN84f_64mjP",
        "outputId": "46623358-fe74-4a73-fe69-623fb00b8fd2"
      },
      "source": [
        "#evaluation metrics\n",
        "MAE=mean_absolute_error((y_test), (y_pred))\n",
        "print(\"MAE :\" ,MAE)\n",
        "\n",
        "MSE  = mean_squared_error((y_test), (y_pred))\n",
        "print(\"MSE :\" , MSE)\n",
        "\n",
        "RMSE = np.sqrt(MSE)\n",
        "print(\"RMSE :\" ,RMSE)\n",
        "\n",
        "r2 = r2_score((y_test),(y_pred))\n",
        "print(r2)\n",
        "\n",
        "adj_r2=1-(1-r2_score((y_test), (y_pred)))*((x_test.shape[0]-1)/(x_test.shape[0]-x_test.shape[1]-1))\n",
        "print(\"Adjusted R2 : \",adj_r2)"
      ],
      "execution_count": 353,
      "outputs": [
        {
          "output_type": "stream",
          "name": "stdout",
          "text": [
            "MAE : 3.0527647129646414\n",
            "MSE : 19.98857859359491\n",
            "RMSE : 4.470858820584129\n",
            "0.9978412541225983\n",
            "Adjusted R2 :  0.9976450044973799\n"
          ]
        }
      ]
    },
    {
      "cell_type": "code",
      "metadata": {
        "id": "iRLaAkOG35Qp"
      },
      "source": [
        "#Inserting errors in dataframe\n",
        "error_df.loc[i,\"Model_Name\"]='linear regression - no true trans'\n",
        "error_df.loc[i,\"MAE\"]=round(MAE,2)\n",
        "error_df.loc[i,\"MSE\"]=round(MSE,2)\n",
        "error_df.loc[i,\"RMSE\"]=round(RMSE,2)\n",
        "error_df.loc[i,\"r2 score\"]=round(r2,6)\n",
        "error_df.loc[i,\"adjusted r2 \"]=round(adj_r2,6)\n",
        "\n",
        "i+=1"
      ],
      "execution_count": 354,
      "outputs": []
    },
    {
      "cell_type": "code",
      "metadata": {
        "colab": {
          "base_uri": "https://localhost:8080/",
          "height": 363
        },
        "id": "_JVOzFT69Cma",
        "outputId": "6eab1401-53fe-4cc9-b783-27d8a43ba665"
      },
      "source": [
        "error_df"
      ],
      "execution_count": 355,
      "outputs": [
        {
          "output_type": "execute_result",
          "data": {
            "text/html": [
              "<div>\n",
              "<style scoped>\n",
              "    .dataframe tbody tr th:only-of-type {\n",
              "        vertical-align: middle;\n",
              "    }\n",
              "\n",
              "    .dataframe tbody tr th {\n",
              "        vertical-align: top;\n",
              "    }\n",
              "\n",
              "    .dataframe thead th {\n",
              "        text-align: right;\n",
              "    }\n",
              "</style>\n",
              "<table border=\"1\" class=\"dataframe\">\n",
              "  <thead>\n",
              "    <tr style=\"text-align: right;\">\n",
              "      <th></th>\n",
              "      <th>Model_Name</th>\n",
              "      <th>MAE</th>\n",
              "      <th>MSE</th>\n",
              "      <th>RMSE</th>\n",
              "      <th>r2 score</th>\n",
              "      <th>adjusted r2</th>\n",
              "    </tr>\n",
              "  </thead>\n",
              "  <tbody>\n",
              "    <tr>\n",
              "      <th>0</th>\n",
              "      <td>linear regression</td>\n",
              "      <td>3.17</td>\n",
              "      <td>20.62</td>\n",
              "      <td>4.54</td>\n",
              "      <td>0.997773</td>\n",
              "      <td>0.997571</td>\n",
              "    </tr>\n",
              "    <tr>\n",
              "      <th>1</th>\n",
              "      <td>linear regression - MINMAX</td>\n",
              "      <td>3.05</td>\n",
              "      <td>19.99</td>\n",
              "      <td>4.47</td>\n",
              "      <td>0.997841</td>\n",
              "      <td>0.997645</td>\n",
              "    </tr>\n",
              "    <tr>\n",
              "      <th>2</th>\n",
              "      <td>linear regression - no trans</td>\n",
              "      <td>3.05</td>\n",
              "      <td>19.99</td>\n",
              "      <td>4.47</td>\n",
              "      <td>0.997841</td>\n",
              "      <td>0.997645</td>\n",
              "    </tr>\n",
              "    <tr>\n",
              "      <th>3</th>\n",
              "      <td>xgboost(man)</td>\n",
              "      <td>4.33</td>\n",
              "      <td>33.55</td>\n",
              "      <td>5.79</td>\n",
              "      <td>0.996376</td>\n",
              "      <td>0.996047</td>\n",
              "    </tr>\n",
              "    <tr>\n",
              "      <th>4</th>\n",
              "      <td>xgboost_2</td>\n",
              "      <td>4.26</td>\n",
              "      <td>32.91</td>\n",
              "      <td>5.74</td>\n",
              "      <td>0.996445</td>\n",
              "      <td>0.996122</td>\n",
              "    </tr>\n",
              "    <tr>\n",
              "      <th>5</th>\n",
              "      <td>KNN - NORMAL</td>\n",
              "      <td>3.85</td>\n",
              "      <td>31.12</td>\n",
              "      <td>5.58</td>\n",
              "      <td>0.996639</td>\n",
              "      <td>0.996334</td>\n",
              "    </tr>\n",
              "    <tr>\n",
              "      <th>6</th>\n",
              "      <td>KNN - LOG</td>\n",
              "      <td>4.60</td>\n",
              "      <td>49.75</td>\n",
              "      <td>7.05</td>\n",
              "      <td>0.994627</td>\n",
              "      <td>0.994139</td>\n",
              "    </tr>\n",
              "    <tr>\n",
              "      <th>7</th>\n",
              "      <td>KNN - MINMAX</td>\n",
              "      <td>4.10</td>\n",
              "      <td>37.73</td>\n",
              "      <td>6.14</td>\n",
              "      <td>0.995925</td>\n",
              "      <td>0.995555</td>\n",
              "    </tr>\n",
              "    <tr>\n",
              "      <th>8</th>\n",
              "      <td>xgb log</td>\n",
              "      <td>4.50</td>\n",
              "      <td>35.77</td>\n",
              "      <td>5.98</td>\n",
              "      <td>0.996137</td>\n",
              "      <td>0.995786</td>\n",
              "    </tr>\n",
              "    <tr>\n",
              "      <th>9</th>\n",
              "      <td>linear regression - no trans</td>\n",
              "      <td>3.05</td>\n",
              "      <td>19.99</td>\n",
              "      <td>4.47</td>\n",
              "      <td>0.997841</td>\n",
              "      <td>0.997645</td>\n",
              "    </tr>\n",
              "  </tbody>\n",
              "</table>\n",
              "</div>"
            ],
            "text/plain": [
              "                     Model_Name   MAE    MSE  RMSE  r2 score  adjusted r2 \n",
              "0             linear regression  3.17  20.62  4.54  0.997773      0.997571\n",
              "1    linear regression - MINMAX  3.05  19.99  4.47  0.997841      0.997645\n",
              "2  linear regression - no trans  3.05  19.99  4.47  0.997841      0.997645\n",
              "3                  xgboost(man)  4.33  33.55  5.79  0.996376      0.996047\n",
              "4                     xgboost_2  4.26  32.91  5.74  0.996445      0.996122\n",
              "5                  KNN - NORMAL  3.85  31.12  5.58  0.996639      0.996334\n",
              "6                     KNN - LOG  4.60  49.75  7.05  0.994627      0.994139\n",
              "7                  KNN - MINMAX  4.10  37.73  6.14  0.995925      0.995555\n",
              "8                       xgb log  4.50  35.77  5.98  0.996137      0.995786\n",
              "9  linear regression - no trans  3.05  19.99  4.47  0.997841      0.997645"
            ]
          },
          "metadata": {},
          "execution_count": 355
        }
      ]
    },
    {
      "cell_type": "markdown",
      "metadata": {
        "id": "C64Lc1Ip8lEu"
      },
      "source": [
        "# **LASSO**"
      ]
    },
    {
      "cell_type": "code",
      "metadata": {
        "id": "kHWZTfv_8n4V"
      },
      "source": [
        "x_train, x_test,y_train, y_test = train_test_split((dep_var),(indep_var),test_size=.20,random_state=1)"
      ],
      "execution_count": 356,
      "outputs": []
    },
    {
      "cell_type": "code",
      "metadata": {
        "id": "EtlI_U57sweE",
        "colab": {
          "base_uri": "https://localhost:8080/"
        },
        "outputId": "595a99af-0c4d-4c6c-ff93-be8482c0ec32"
      },
      "source": [
        "from sklearn.linear_model import Lasso\n",
        "lasso  = Lasso(alpha=0.0001 , max_iter= 3000)\n",
        "x_train = scaler.fit_transform(x_train)\n",
        "x_test = scaler.transform(x_test)\n",
        "lasso.fit(x_train, y_train)"
      ],
      "execution_count": 357,
      "outputs": [
        {
          "output_type": "execute_result",
          "data": {
            "text/plain": [
              "Lasso(alpha=0.0001, copy_X=True, fit_intercept=True, max_iter=3000,\n",
              "      normalize=False, positive=False, precompute=False, random_state=None,\n",
              "      selection='cyclic', tol=0.0001, warm_start=False)"
            ]
          },
          "metadata": {},
          "execution_count": 357
        }
      ]
    },
    {
      "cell_type": "code",
      "metadata": {
        "id": "tfe3kQB6tKjO",
        "colab": {
          "base_uri": "https://localhost:8080/"
        },
        "outputId": "25b71383-a104-4271-8666-7e718d104950"
      },
      "source": [
        "lasso.score(x_train, y_train)"
      ],
      "execution_count": 359,
      "outputs": [
        {
          "output_type": "execute_result",
          "data": {
            "text/plain": [
              "0.9943947120445369"
            ]
          },
          "metadata": {},
          "execution_count": 359
        }
      ]
    },
    {
      "cell_type": "code",
      "metadata": {
        "id": "WWUqXSdDthcy",
        "colab": {
          "base_uri": "https://localhost:8080/"
        },
        "outputId": "f177c62d-f324-4b36-ceab-03dd36bfba40"
      },
      "source": [
        "lasso.coef_"
      ],
      "execution_count": null,
      "outputs": [
        {
          "output_type": "execute_result",
          "data": {
            "text/plain": [
              "array([0.95764811])"
            ]
          },
          "metadata": {},
          "execution_count": 434
        }
      ]
    },
    {
      "cell_type": "code",
      "metadata": {
        "id": "-D0Q_EaHt2DH"
      },
      "source": [
        "### Cross validation\n",
        "from sklearn.model_selection import GridSearchCV\n",
        "lasso = Lasso()\n",
        "parameters = {'alpha': [1e-15,1e-13,1e-10,1e-8,1e-5,1e-4,1e-3,1e-2,1e-1,1,5,10,20,30,40,45,50,55,60,100,0.0014]}\n",
        "lasso_regressor = GridSearchCV(lasso, parameters, scoring='neg_mean_squared_error', cv=5)\n",
        "lasso_regressor.fit(x_train, y_train)"
      ],
      "execution_count": null,
      "outputs": []
    },
    {
      "cell_type": "code",
      "metadata": {
        "id": "VUCLA0vRxqSK",
        "colab": {
          "base_uri": "https://localhost:8080/"
        },
        "outputId": "c0c0d275-3cde-4ac1-e63d-398551578344"
      },
      "source": [
        "print(\"The best fit alpha value is found out to be :\" ,lasso_regressor.best_params_)\n",
        "print(\"\\nUsing \",lasso_regressor.best_params_, \" the negative mean squared error is: \", lasso_regressor.best_score_)"
      ],
      "execution_count": 362,
      "outputs": [
        {
          "output_type": "stream",
          "name": "stdout",
          "text": [
            "The best fit alpha value is found out to be : {'alpha': 0.01}\n",
            "\n",
            "Using  {'alpha': 0.01}  the negative mean squared error is:  -62.90049172560616\n"
          ]
        }
      ]
    },
    {
      "cell_type": "code",
      "metadata": {
        "id": "loUq9nZex9jc"
      },
      "source": [
        "y_pred = lasso_regressor.predict(x_test)"
      ],
      "execution_count": 364,
      "outputs": []
    },
    {
      "cell_type": "code",
      "metadata": {
        "colab": {
          "base_uri": "https://localhost:8080/"
        },
        "id": "wOKiFNN09e1K",
        "outputId": "0778e750-ced4-4bfb-86dd-877fd75fee41"
      },
      "source": [
        "#evaluation metrics\n",
        "MAE=mean_absolute_error((y_test), (y_pred))\n",
        "print(\"MAE :\" ,MAE)\n",
        "\n",
        "MSE  = mean_squared_error((y_test), (y_pred))\n",
        "print(\"MSE :\" , MSE)\n",
        "\n",
        "RMSE = np.sqrt(MSE)\n",
        "print(\"RMSE :\" ,RMSE)\n",
        "\n",
        "r2 = r2_score((y_test),(y_pred))\n",
        "print(r2)\n",
        "\n",
        "adj_r2=1-(1-r2_score((y_test), (y_pred)))*((x_test.shape[0]-1)/(x_test.shape[0]-x_test.shape[1]-1))\n",
        "print(\"Adjusted R2 : \",adj_r2)"
      ],
      "execution_count": 365,
      "outputs": [
        {
          "output_type": "stream",
          "name": "stdout",
          "text": [
            "MAE : 3.130856893860506\n",
            "MSE : 20.878651216190214\n",
            "RMSE : 4.569316274475889\n",
            "0.9977451271971334\n",
            "Adjusted R2 :  0.9975401387605092\n"
          ]
        }
      ]
    },
    {
      "cell_type": "code",
      "metadata": {
        "id": "Uwd3gDUi9e1S"
      },
      "source": [
        "#Inserting errors in dataframe\n",
        "error_df.loc[i,\"Model_Name\"]='lasso'\n",
        "error_df.loc[i,\"MAE\"]=round(MAE,2)\n",
        "error_df.loc[i,\"MSE\"]=round(MSE,2)\n",
        "error_df.loc[i,\"RMSE\"]=round(RMSE,2)\n",
        "error_df.loc[i,\"r2 score\"]=round(r2,6)\n",
        "error_df.loc[i,\"adjusted r2 \"]=round(adj_r2,6)\n",
        "\n",
        "i=i+1"
      ],
      "execution_count": 366,
      "outputs": []
    },
    {
      "cell_type": "code",
      "metadata": {
        "colab": {
          "base_uri": "https://localhost:8080/",
          "height": 394
        },
        "id": "wFnnVvXw9e1S",
        "outputId": "8936da1b-2d8d-4b0f-e446-2725c92644ba"
      },
      "source": [
        "error_df"
      ],
      "execution_count": 367,
      "outputs": [
        {
          "output_type": "execute_result",
          "data": {
            "text/html": [
              "<div>\n",
              "<style scoped>\n",
              "    .dataframe tbody tr th:only-of-type {\n",
              "        vertical-align: middle;\n",
              "    }\n",
              "\n",
              "    .dataframe tbody tr th {\n",
              "        vertical-align: top;\n",
              "    }\n",
              "\n",
              "    .dataframe thead th {\n",
              "        text-align: right;\n",
              "    }\n",
              "</style>\n",
              "<table border=\"1\" class=\"dataframe\">\n",
              "  <thead>\n",
              "    <tr style=\"text-align: right;\">\n",
              "      <th></th>\n",
              "      <th>Model_Name</th>\n",
              "      <th>MAE</th>\n",
              "      <th>MSE</th>\n",
              "      <th>RMSE</th>\n",
              "      <th>r2 score</th>\n",
              "      <th>adjusted r2</th>\n",
              "    </tr>\n",
              "  </thead>\n",
              "  <tbody>\n",
              "    <tr>\n",
              "      <th>0</th>\n",
              "      <td>linear regression</td>\n",
              "      <td>3.17</td>\n",
              "      <td>20.62</td>\n",
              "      <td>4.54</td>\n",
              "      <td>0.997773</td>\n",
              "      <td>0.997571</td>\n",
              "    </tr>\n",
              "    <tr>\n",
              "      <th>1</th>\n",
              "      <td>linear regression - MINMAX</td>\n",
              "      <td>3.05</td>\n",
              "      <td>19.99</td>\n",
              "      <td>4.47</td>\n",
              "      <td>0.997841</td>\n",
              "      <td>0.997645</td>\n",
              "    </tr>\n",
              "    <tr>\n",
              "      <th>2</th>\n",
              "      <td>linear regression - no trans</td>\n",
              "      <td>3.05</td>\n",
              "      <td>19.99</td>\n",
              "      <td>4.47</td>\n",
              "      <td>0.997841</td>\n",
              "      <td>0.997645</td>\n",
              "    </tr>\n",
              "    <tr>\n",
              "      <th>3</th>\n",
              "      <td>xgboost(man)</td>\n",
              "      <td>4.33</td>\n",
              "      <td>33.55</td>\n",
              "      <td>5.79</td>\n",
              "      <td>0.996376</td>\n",
              "      <td>0.996047</td>\n",
              "    </tr>\n",
              "    <tr>\n",
              "      <th>4</th>\n",
              "      <td>xgboost_2</td>\n",
              "      <td>4.26</td>\n",
              "      <td>32.91</td>\n",
              "      <td>5.74</td>\n",
              "      <td>0.996445</td>\n",
              "      <td>0.996122</td>\n",
              "    </tr>\n",
              "    <tr>\n",
              "      <th>5</th>\n",
              "      <td>KNN - NORMAL</td>\n",
              "      <td>3.85</td>\n",
              "      <td>31.12</td>\n",
              "      <td>5.58</td>\n",
              "      <td>0.996639</td>\n",
              "      <td>0.996334</td>\n",
              "    </tr>\n",
              "    <tr>\n",
              "      <th>6</th>\n",
              "      <td>KNN - LOG</td>\n",
              "      <td>4.60</td>\n",
              "      <td>49.75</td>\n",
              "      <td>7.05</td>\n",
              "      <td>0.994627</td>\n",
              "      <td>0.994139</td>\n",
              "    </tr>\n",
              "    <tr>\n",
              "      <th>7</th>\n",
              "      <td>KNN - MINMAX</td>\n",
              "      <td>4.10</td>\n",
              "      <td>37.73</td>\n",
              "      <td>6.14</td>\n",
              "      <td>0.995925</td>\n",
              "      <td>0.995555</td>\n",
              "    </tr>\n",
              "    <tr>\n",
              "      <th>8</th>\n",
              "      <td>xgb log</td>\n",
              "      <td>4.50</td>\n",
              "      <td>35.77</td>\n",
              "      <td>5.98</td>\n",
              "      <td>0.996137</td>\n",
              "      <td>0.995786</td>\n",
              "    </tr>\n",
              "    <tr>\n",
              "      <th>9</th>\n",
              "      <td>linear regression - no trans</td>\n",
              "      <td>3.05</td>\n",
              "      <td>19.99</td>\n",
              "      <td>4.47</td>\n",
              "      <td>0.997841</td>\n",
              "      <td>0.997645</td>\n",
              "    </tr>\n",
              "    <tr>\n",
              "      <th>10</th>\n",
              "      <td>lasso</td>\n",
              "      <td>3.13</td>\n",
              "      <td>20.88</td>\n",
              "      <td>4.57</td>\n",
              "      <td>0.997745</td>\n",
              "      <td>0.997540</td>\n",
              "    </tr>\n",
              "  </tbody>\n",
              "</table>\n",
              "</div>"
            ],
            "text/plain": [
              "                      Model_Name   MAE    MSE  RMSE  r2 score  adjusted r2 \n",
              "0              linear regression  3.17  20.62  4.54  0.997773      0.997571\n",
              "1     linear regression - MINMAX  3.05  19.99  4.47  0.997841      0.997645\n",
              "2   linear regression - no trans  3.05  19.99  4.47  0.997841      0.997645\n",
              "3                   xgboost(man)  4.33  33.55  5.79  0.996376      0.996047\n",
              "4                      xgboost_2  4.26  32.91  5.74  0.996445      0.996122\n",
              "5                   KNN - NORMAL  3.85  31.12  5.58  0.996639      0.996334\n",
              "6                      KNN - LOG  4.60  49.75  7.05  0.994627      0.994139\n",
              "7                   KNN - MINMAX  4.10  37.73  6.14  0.995925      0.995555\n",
              "8                        xgb log  4.50  35.77  5.98  0.996137      0.995786\n",
              "9   linear regression - no trans  3.05  19.99  4.47  0.997841      0.997645\n",
              "10                         lasso  3.13  20.88  4.57  0.997745      0.997540"
            ]
          },
          "metadata": {},
          "execution_count": 367
        }
      ]
    },
    {
      "cell_type": "markdown",
      "metadata": {
        "id": "fXWMObjI9tZF"
      },
      "source": [
        "# **RIDGE**"
      ]
    },
    {
      "cell_type": "code",
      "metadata": {
        "id": "XbIA7NcD9vS8"
      },
      "source": [
        "x_train = scaler.fit_transform(x_train)\n",
        "x_test = scaler.transform(x_test)"
      ],
      "execution_count": null,
      "outputs": []
    },
    {
      "cell_type": "code",
      "metadata": {
        "id": "vKJjDSfDmLv9"
      },
      "source": [
        "from sklearn.linear_model import Ridge\n",
        "ridge  = Ridge(alpha=0.1)"
      ],
      "execution_count": null,
      "outputs": []
    },
    {
      "cell_type": "code",
      "metadata": {
        "id": "Oe_B3CsQma23",
        "colab": {
          "base_uri": "https://localhost:8080/"
        },
        "outputId": "b8ca29df-6a22-475b-e838-0eabe238fdb0"
      },
      "source": [
        "ridge.fit(X_train,y_train)"
      ],
      "execution_count": null,
      "outputs": [
        {
          "output_type": "execute_result",
          "data": {
            "text/plain": [
              "Ridge(alpha=0.1, copy_X=True, fit_intercept=True, max_iter=None,\n",
              "      normalize=False, random_state=None, solver='auto', tol=0.001)"
            ]
          },
          "metadata": {},
          "execution_count": 440
        }
      ]
    },
    {
      "cell_type": "code",
      "metadata": {
        "id": "mNzOWLrzmp0l",
        "colab": {
          "base_uri": "https://localhost:8080/"
        },
        "outputId": "f36a2940-cb45-476c-b8bf-3dc697c8b180"
      },
      "source": [
        "ridge.score(X_train, y_train)"
      ],
      "execution_count": null,
      "outputs": [
        {
          "output_type": "execute_result",
          "data": {
            "text/plain": [
              "0.8881488146703688"
            ]
          },
          "metadata": {},
          "execution_count": 441
        }
      ]
    },
    {
      "cell_type": "code",
      "metadata": {
        "id": "Smg2Wu00mrb5"
      },
      "source": [
        "y_pred_r = ridge.predict(X_test)"
      ],
      "execution_count": null,
      "outputs": []
    },
    {
      "cell_type": "code",
      "metadata": {
        "id": "I3yjCRxwvBKC",
        "colab": {
          "base_uri": "https://localhost:8080/"
        },
        "outputId": "b7088e04-61ba-43bb-c4a7-56467222b87c"
      },
      "source": [
        "# Hyperprarameter tuning\n",
        "ridge = Ridge()\n",
        "parameters = {'alpha': [1e-15,1e-10,1e-8,1e-5,1e-4,1e-3,1e-2,1,5,10,20,30,40,45,50,55,60,100]}\n",
        "ridge_regressor = GridSearchCV(ridge, parameters, scoring='neg_mean_squared_error', cv=3)\n",
        "ridge_regressor.fit(X_train,y_train)"
      ],
      "execution_count": null,
      "outputs": [
        {
          "output_type": "execute_result",
          "data": {
            "text/plain": [
              "GridSearchCV(cv=3, error_score=nan,\n",
              "             estimator=Ridge(alpha=1.0, copy_X=True, fit_intercept=True,\n",
              "                             max_iter=None, normalize=False, random_state=None,\n",
              "                             solver='auto', tol=0.001),\n",
              "             iid='deprecated', n_jobs=None,\n",
              "             param_grid={'alpha': [1e-15, 1e-10, 1e-08, 1e-05, 0.0001, 0.001,\n",
              "                                   0.01, 1, 5, 10, 20, 30, 40, 45, 50, 55, 60,\n",
              "                                   100]},\n",
              "             pre_dispatch='2*n_jobs', refit=True, return_train_score=False,\n",
              "             scoring='neg_mean_squared_error', verbose=0)"
            ]
          },
          "metadata": {},
          "execution_count": 444
        }
      ]
    },
    {
      "cell_type": "code",
      "metadata": {
        "id": "p-Xal433vBBJ",
        "colab": {
          "base_uri": "https://localhost:8080/"
        },
        "outputId": "77600569-fa2e-4d70-fdd1-43b76be5ebb0"
      },
      "source": [
        "print(\"The best fit alpha value is found out to be :\" ,ridge_regressor.best_params_)\n",
        "print(\"\\nUsing \",ridge_regressor.best_params_, \" the negative mean squared error is: \", ridge_regressor.best_score_)"
      ],
      "execution_count": null,
      "outputs": [
        {
          "output_type": "stream",
          "name": "stdout",
          "text": [
            "The best fit alpha value is found out to be : {'alpha': 100}\n",
            "\n",
            "Using  {'alpha': 100}  the negative mean squared error is:  -1267.3016429706834\n"
          ]
        }
      ]
    },
    {
      "cell_type": "code",
      "metadata": {
        "id": "2SGFL60dvA95"
      },
      "source": [
        "#Model Prediction\n",
        "y_pred_ridge = ridge_regressor.predict(X_test)"
      ],
      "execution_count": null,
      "outputs": []
    },
    {
      "cell_type": "markdown",
      "metadata": {
        "id": "xDw8JOljNt4Z"
      },
      "source": [
        "# **XGBOOST**"
      ]
    },
    {
      "cell_type": "markdown",
      "metadata": {
        "id": "62ZLrlTP4_Ad"
      },
      "source": [
        "manual"
      ]
    },
    {
      "cell_type": "code",
      "metadata": {
        "id": "ETtll2s_9zRV"
      },
      "source": [
        "from xgboost import XGBRegressor\n",
        "xgb = XGBRegressor()\n",
        "param_dict_xgb = {\n",
        "    'max_depth': range (2, 10, 1),\n",
        "    'n_estimators': range(60, 220, 40),\n",
        "    'learning_rate': [0.1, 0.05, 0.01, 0.005]\n",
        "  }"
      ],
      "execution_count": 321,
      "outputs": []
    },
    {
      "cell_type": "code",
      "metadata": {
        "id": "xnzdahXpGe5y"
      },
      "source": [
        "x_train, x_test,y_train, y_test = train_test_split((dep_var),(indep_var),test_size=.20,random_state=1)"
      ],
      "execution_count": 322,
      "outputs": []
    },
    {
      "cell_type": "code",
      "metadata": {
        "id": "3MFDE46LD3Rq"
      },
      "source": [
        "xgb_grid = GridSearchCV(estimator=xgb,\n",
        "                       param_grid = param_dict_xgb,\n",
        "                       cv = 5, verbose=2, scoring='neg_mean_absolute_error')\n",
        "xgb_grid.fit(x_train,y_train)"
      ],
      "execution_count": null,
      "outputs": []
    },
    {
      "cell_type": "code",
      "metadata": {
        "colab": {
          "base_uri": "https://localhost:8080/"
        },
        "id": "uHLxNx_JJ9Ox",
        "outputId": "26aa0efa-4bfe-4c37-9b9f-eddb201c3317"
      },
      "source": [
        "print(\"The best fit alpha value is found out to be :\" ,xgb_grid.best_params_)\n",
        "print(\"\\nUsing \",xgb_grid.best_params_, \" the negative mean squared error is: \", xgb_grid.best_score_)"
      ],
      "execution_count": 324,
      "outputs": [
        {
          "output_type": "stream",
          "name": "stdout",
          "text": [
            "The best fit alpha value is found out to be : {'learning_rate': 0.1, 'max_depth': 4, 'n_estimators': 100}\n",
            "\n",
            "Using  {'learning_rate': 0.1, 'max_depth': 4, 'n_estimators': 100}  the negative mean squared error is:  -6.86396415789374\n"
          ]
        }
      ]
    },
    {
      "cell_type": "code",
      "metadata": {
        "id": "w3Qi7VFtKOlU"
      },
      "source": [
        "y_pred = xgb_grid.predict(x_test)"
      ],
      "execution_count": 325,
      "outputs": []
    },
    {
      "cell_type": "code",
      "metadata": {
        "colab": {
          "base_uri": "https://localhost:8080/"
        },
        "id": "5Qp1G1PHKyHo",
        "outputId": "27c43850-16b6-43bb-e67d-55cedc4471dc"
      },
      "source": [
        "#evaluation metrics\n",
        "MAE=mean_absolute_error((y_test), (y_pred))\n",
        "print(\"MAE :\" ,MAE)\n",
        "\n",
        "MSE  = mean_squared_error((y_test), (y_pred))\n",
        "print(\"MSE :\" , MSE)\n",
        "\n",
        "RMSE = np.sqrt(MSE)\n",
        "print(\"RMSE :\" ,RMSE)\n",
        "\n",
        "r2 = r2_score((y_test),(y_pred))\n",
        "print(r2)\n",
        "\n",
        "adj_r2=1-(1-r2_score((y_test), (y_pred)))*((x_test.shape[0]-1)/(x_test.shape[0]-x_test.shape[1]-1))\n",
        "print(\"Adjusted R2 : \",adj_r2)"
      ],
      "execution_count": 326,
      "outputs": [
        {
          "output_type": "stream",
          "name": "stdout",
          "text": [
            "MAE : 4.331598878808923\n",
            "MSE : 33.55247679101334\n",
            "RMSE : 5.792449981744628\n",
            "0.9963763671033403\n",
            "Adjusted R2 :  0.9960469459309167\n"
          ]
        }
      ]
    },
    {
      "cell_type": "code",
      "metadata": {
        "id": "Qp50h2VnP-cS"
      },
      "source": [
        "#Inserting errors in dataframe\n",
        "error_df.loc[i,\"Model_Name\"]='xgboost(man)'\n",
        "error_df.loc[i,\"MAE\"]=round(MAE,2)\n",
        "error_df.loc[i,\"MSE\"]=round(MSE,2)\n",
        "error_df.loc[i,\"RMSE\"]=round(RMSE,2)\n",
        "error_df.loc[i,\"r2 score\"]=round(r2,6)\n",
        "error_df.loc[i,\"adjusted r2 \"]=round(adj_r2,6)\n",
        "\n",
        "i=i+1"
      ],
      "execution_count": 327,
      "outputs": []
    },
    {
      "cell_type": "code",
      "metadata": {
        "colab": {
          "base_uri": "https://localhost:8080/",
          "height": 175
        },
        "id": "Szt75OyZP-cT",
        "outputId": "d6f8294d-8b5c-4f73-e9be-0614ded8e464"
      },
      "source": [
        "error_df"
      ],
      "execution_count": 328,
      "outputs": [
        {
          "output_type": "execute_result",
          "data": {
            "text/html": [
              "<div>\n",
              "<style scoped>\n",
              "    .dataframe tbody tr th:only-of-type {\n",
              "        vertical-align: middle;\n",
              "    }\n",
              "\n",
              "    .dataframe tbody tr th {\n",
              "        vertical-align: top;\n",
              "    }\n",
              "\n",
              "    .dataframe thead th {\n",
              "        text-align: right;\n",
              "    }\n",
              "</style>\n",
              "<table border=\"1\" class=\"dataframe\">\n",
              "  <thead>\n",
              "    <tr style=\"text-align: right;\">\n",
              "      <th></th>\n",
              "      <th>Model_Name</th>\n",
              "      <th>MAE</th>\n",
              "      <th>MSE</th>\n",
              "      <th>RMSE</th>\n",
              "      <th>r2 score</th>\n",
              "      <th>adjusted r2</th>\n",
              "    </tr>\n",
              "  </thead>\n",
              "  <tbody>\n",
              "    <tr>\n",
              "      <th>0</th>\n",
              "      <td>linear regression</td>\n",
              "      <td>3.17</td>\n",
              "      <td>20.62</td>\n",
              "      <td>4.54</td>\n",
              "      <td>0.997773</td>\n",
              "      <td>0.997571</td>\n",
              "    </tr>\n",
              "    <tr>\n",
              "      <th>1</th>\n",
              "      <td>linear regression - MINMAX</td>\n",
              "      <td>3.05</td>\n",
              "      <td>19.99</td>\n",
              "      <td>4.47</td>\n",
              "      <td>0.997841</td>\n",
              "      <td>0.997645</td>\n",
              "    </tr>\n",
              "    <tr>\n",
              "      <th>2</th>\n",
              "      <td>linear regression - no trans</td>\n",
              "      <td>3.05</td>\n",
              "      <td>19.99</td>\n",
              "      <td>4.47</td>\n",
              "      <td>0.997841</td>\n",
              "      <td>0.997645</td>\n",
              "    </tr>\n",
              "    <tr>\n",
              "      <th>3</th>\n",
              "      <td>xgboost(man)</td>\n",
              "      <td>4.33</td>\n",
              "      <td>33.55</td>\n",
              "      <td>5.79</td>\n",
              "      <td>0.996376</td>\n",
              "      <td>0.996047</td>\n",
              "    </tr>\n",
              "  </tbody>\n",
              "</table>\n",
              "</div>"
            ],
            "text/plain": [
              "                     Model_Name   MAE    MSE  RMSE  r2 score  adjusted r2 \n",
              "0             linear regression  3.17  20.62  4.54  0.997773      0.997571\n",
              "1    linear regression - MINMAX  3.05  19.99  4.47  0.997841      0.997645\n",
              "2  linear regression - no trans  3.05  19.99  4.47  0.997841      0.997645\n",
              "3                  xgboost(man)  4.33  33.55  5.79  0.996376      0.996047"
            ]
          },
          "metadata": {},
          "execution_count": 328
        }
      ]
    },
    {
      "cell_type": "code",
      "metadata": {
        "colab": {
          "base_uri": "https://localhost:8080/"
        },
        "id": "1oIVxkytROft",
        "outputId": "8fd38cc2-cfb5-4123-f273-36014e1a6692"
      },
      "source": [
        "xgb.fit(x_train,y_train)\n",
        "y_pred = xgb.predict(x_test)"
      ],
      "execution_count": 329,
      "outputs": [
        {
          "output_type": "stream",
          "name": "stdout",
          "text": [
            "[06:13:12] WARNING: /workspace/src/objective/regression_obj.cu:152: reg:linear is now deprecated in favor of reg:squarederror.\n"
          ]
        }
      ]
    },
    {
      "cell_type": "code",
      "metadata": {
        "colab": {
          "base_uri": "https://localhost:8080/"
        },
        "id": "T5x_0kydReXW",
        "outputId": "f6d1cfaa-5682-4628-c7fd-5263907f7b3c"
      },
      "source": [
        "xgb_grid.best_params_"
      ],
      "execution_count": 330,
      "outputs": [
        {
          "output_type": "execute_result",
          "data": {
            "text/plain": [
              "{'learning_rate': 0.1, 'max_depth': 4, 'n_estimators': 100}"
            ]
          },
          "metadata": {},
          "execution_count": 330
        }
      ]
    },
    {
      "cell_type": "code",
      "metadata": {
        "id": "VdylHidhRxEN"
      },
      "source": [
        ""
      ],
      "execution_count": 330,
      "outputs": []
    },
    {
      "cell_type": "code",
      "metadata": {
        "colab": {
          "base_uri": "https://localhost:8080/"
        },
        "id": "1afhWh_MRxEN",
        "outputId": "12932f32-70a2-4c43-abf3-e93ea7cc7eca"
      },
      "source": [
        "#evaluation metrics\n",
        "MAE=mean_absolute_error((y_test), (y_pred))\n",
        "print(\"MAE :\" ,MAE)\n",
        "\n",
        "MSE  = mean_squared_error((y_test), (y_pred))\n",
        "print(\"MSE :\" , MSE)\n",
        "\n",
        "RMSE = np.sqrt(MSE)\n",
        "print(\"RMSE :\" ,RMSE)\n",
        "\n",
        "r2 = r2_score((y_test),(y_pred))\n",
        "print(r2)\n",
        "\n",
        "adj_r2=1-(1-r2_score((y_test), (y_pred)))*((x_test.shape[0]-1)/(x_test.shape[0]-x_test.shape[1]-1))\n",
        "print(\"Adjusted R2 : \",adj_r2)"
      ],
      "execution_count": 331,
      "outputs": [
        {
          "output_type": "stream",
          "name": "stdout",
          "text": [
            "MAE : 4.25945175686398\n",
            "MSE : 32.91328663051823\n",
            "RMSE : 5.737010251909807\n",
            "0.9964453989815895\n",
            "Adjusted R2 :  0.9961222534344613\n"
          ]
        }
      ]
    },
    {
      "cell_type": "code",
      "metadata": {
        "id": "sYm2-ZT-RxEO"
      },
      "source": [
        "#Inserting errors in dataframe\n",
        "error_df.loc[i,\"Model_Name\"]='xgboost_2'\n",
        "error_df.loc[i,\"MAE\"]=round(MAE,2)\n",
        "error_df.loc[i,\"MSE\"]=round(MSE,2)\n",
        "error_df.loc[i,\"RMSE\"]=round(RMSE,2)\n",
        "error_df.loc[i,\"r2 score\"]=round(r2,6)\n",
        "error_df.loc[i,\"adjusted r2 \"]=round(adj_r2,6)\n",
        "\n",
        "i=i+1"
      ],
      "execution_count": 332,
      "outputs": []
    },
    {
      "cell_type": "code",
      "metadata": {
        "colab": {
          "base_uri": "https://localhost:8080/",
          "height": 206
        },
        "id": "0Q7xNn2KRxEO",
        "outputId": "f1367e30-0896-4616-c8e5-596154c9788d"
      },
      "source": [
        "error_df"
      ],
      "execution_count": 333,
      "outputs": [
        {
          "output_type": "execute_result",
          "data": {
            "text/html": [
              "<div>\n",
              "<style scoped>\n",
              "    .dataframe tbody tr th:only-of-type {\n",
              "        vertical-align: middle;\n",
              "    }\n",
              "\n",
              "    .dataframe tbody tr th {\n",
              "        vertical-align: top;\n",
              "    }\n",
              "\n",
              "    .dataframe thead th {\n",
              "        text-align: right;\n",
              "    }\n",
              "</style>\n",
              "<table border=\"1\" class=\"dataframe\">\n",
              "  <thead>\n",
              "    <tr style=\"text-align: right;\">\n",
              "      <th></th>\n",
              "      <th>Model_Name</th>\n",
              "      <th>MAE</th>\n",
              "      <th>MSE</th>\n",
              "      <th>RMSE</th>\n",
              "      <th>r2 score</th>\n",
              "      <th>adjusted r2</th>\n",
              "    </tr>\n",
              "  </thead>\n",
              "  <tbody>\n",
              "    <tr>\n",
              "      <th>0</th>\n",
              "      <td>linear regression</td>\n",
              "      <td>3.17</td>\n",
              "      <td>20.62</td>\n",
              "      <td>4.54</td>\n",
              "      <td>0.997773</td>\n",
              "      <td>0.997571</td>\n",
              "    </tr>\n",
              "    <tr>\n",
              "      <th>1</th>\n",
              "      <td>linear regression - MINMAX</td>\n",
              "      <td>3.05</td>\n",
              "      <td>19.99</td>\n",
              "      <td>4.47</td>\n",
              "      <td>0.997841</td>\n",
              "      <td>0.997645</td>\n",
              "    </tr>\n",
              "    <tr>\n",
              "      <th>2</th>\n",
              "      <td>linear regression - no trans</td>\n",
              "      <td>3.05</td>\n",
              "      <td>19.99</td>\n",
              "      <td>4.47</td>\n",
              "      <td>0.997841</td>\n",
              "      <td>0.997645</td>\n",
              "    </tr>\n",
              "    <tr>\n",
              "      <th>3</th>\n",
              "      <td>xgboost(man)</td>\n",
              "      <td>4.33</td>\n",
              "      <td>33.55</td>\n",
              "      <td>5.79</td>\n",
              "      <td>0.996376</td>\n",
              "      <td>0.996047</td>\n",
              "    </tr>\n",
              "    <tr>\n",
              "      <th>4</th>\n",
              "      <td>xgboost_2</td>\n",
              "      <td>4.26</td>\n",
              "      <td>32.91</td>\n",
              "      <td>5.74</td>\n",
              "      <td>0.996445</td>\n",
              "      <td>0.996122</td>\n",
              "    </tr>\n",
              "  </tbody>\n",
              "</table>\n",
              "</div>"
            ],
            "text/plain": [
              "                     Model_Name   MAE    MSE  RMSE  r2 score  adjusted r2 \n",
              "0             linear regression  3.17  20.62  4.54  0.997773      0.997571\n",
              "1    linear regression - MINMAX  3.05  19.99  4.47  0.997841      0.997645\n",
              "2  linear regression - no trans  3.05  19.99  4.47  0.997841      0.997645\n",
              "3                  xgboost(man)  4.33  33.55  5.79  0.996376      0.996047\n",
              "4                     xgboost_2  4.26  32.91  5.74  0.996445      0.996122"
            ]
          },
          "metadata": {},
          "execution_count": 333
        }
      ]
    },
    {
      "cell_type": "code",
      "metadata": {
        "id": "OK1j2L-rcA1L"
      },
      "source": [
        ""
      ],
      "execution_count": 333,
      "outputs": []
    },
    {
      "cell_type": "markdown",
      "metadata": {
        "id": "OV6Xm2FYcG6i"
      },
      "source": [
        "# **KNN**"
      ]
    },
    {
      "cell_type": "code",
      "metadata": {
        "id": "ph-0nEG8cF0y"
      },
      "source": [
        "from sklearn.model_selection import GridSearchCV\n",
        "params = {'n_neighbors':[2,3,4,5,6,7,8,9]}\n",
        "x_train, x_test,y_train, y_test = train_test_split((dep_var),(indep_var),test_size=.20,random_state=1)\n",
        "\n",
        "knn = neighbors.KNeighborsRegressor()\n",
        "\n",
        "model = GridSearchCV(knn, params, cv=5)\n",
        "model.fit(x_train,y_train)\n",
        "model.best_params_\n",
        "y_pred=model.predict(x_test)"
      ],
      "execution_count": 334,
      "outputs": []
    },
    {
      "cell_type": "code",
      "metadata": {
        "id": "77091urPrTW5"
      },
      "source": [
        ""
      ],
      "execution_count": 334,
      "outputs": []
    },
    {
      "cell_type": "code",
      "metadata": {
        "colab": {
          "base_uri": "https://localhost:8080/"
        },
        "id": "EgsupjnorTlo",
        "outputId": "df43c010-e52d-4a8a-f48c-c40f233f4da8"
      },
      "source": [
        "#evaluation metrics\n",
        "MAE=mean_absolute_error((y_test), (y_pred))\n",
        "print(\"MAE :\" ,MAE)\n",
        "\n",
        "MSE  = mean_squared_error((y_test), (y_pred))\n",
        "print(\"MSE :\" , MSE)\n",
        "\n",
        "RMSE = np.sqrt(MSE)\n",
        "print(\"RMSE :\" ,RMSE)\n",
        "\n",
        "r2 = r2_score((y_test),(y_pred))\n",
        "print(r2)\n",
        "\n",
        "adj_r2=1-(1-r2_score((y_test), (y_pred)))*((x_test.shape[0]-1)/(x_test.shape[0]-x_test.shape[1]-1))\n",
        "print(\"Adjusted R2 : \",adj_r2)"
      ],
      "execution_count": 335,
      "outputs": [
        {
          "output_type": "stream",
          "name": "stdout",
          "text": [
            "MAE : 3.8548648648648656\n",
            "MSE : 31.116397297297286\n",
            "RMSE : 5.578207355172205\n",
            "0.9966394611767613\n",
            "Adjusted R2 :  0.996333957647376\n"
          ]
        }
      ]
    },
    {
      "cell_type": "code",
      "metadata": {
        "id": "S93cqaoIzCRW"
      },
      "source": [
        "#Inserting errors in dataframe\n",
        "error_df.loc[i,\"Model_Name\"]='KNN - NORMAL'\n",
        "error_df.loc[i,\"MAE\"]=round(MAE,2)\n",
        "error_df.loc[i,\"MSE\"]=round(MSE,2)\n",
        "error_df.loc[i,\"RMSE\"]=round(RMSE,2)\n",
        "error_df.loc[i,\"r2 score\"]=round(r2,6)\n",
        "error_df.loc[i,\"adjusted r2 \"]=round(adj_r2,6)\n",
        "\n",
        "i=i+1"
      ],
      "execution_count": 336,
      "outputs": []
    },
    {
      "cell_type": "markdown",
      "metadata": {
        "id": "aGukUk9NrhfH"
      },
      "source": [
        "log"
      ]
    },
    {
      "cell_type": "code",
      "metadata": {
        "id": "mbe5pu3BriCz"
      },
      "source": [
        "x_train, x_test,y_train, y_test = train_test_split(np.log10(dep_var),np.log10(indep_var),test_size=.20,random_state=1)"
      ],
      "execution_count": 337,
      "outputs": []
    },
    {
      "cell_type": "code",
      "metadata": {
        "id": "GSN9xoyHrltb"
      },
      "source": [
        "from sklearn.model_selection import GridSearchCV\n",
        "params = {'n_neighbors':[2,3,4,5,6,7,8,9]}\n",
        "\n",
        "knn = neighbors.KNeighborsRegressor()\n",
        "\n",
        "model = GridSearchCV(knn, params, cv=5)\n",
        "model.fit(x_train,y_train)\n",
        "model.best_params_\n",
        "y_pred=model.predict(x_test)"
      ],
      "execution_count": 338,
      "outputs": []
    },
    {
      "cell_type": "code",
      "metadata": {
        "id": "hN8EZCx1rr3b"
      },
      "source": [
        ""
      ],
      "execution_count": 338,
      "outputs": []
    },
    {
      "cell_type": "code",
      "metadata": {
        "colab": {
          "base_uri": "https://localhost:8080/"
        },
        "id": "tkGqsP7hrsFQ",
        "outputId": "1462a57d-8b38-4bfb-ad3e-93b5d99c759b"
      },
      "source": [
        "#evaluation metrics\n",
        "MAE=mean_absolute_error(10**(y_test), 10**(y_pred))\n",
        "print(\"MAE :\" ,MAE)\n",
        "\n",
        "MSE  = mean_squared_error(10**(y_test), 10**(y_pred))\n",
        "print(\"MSE :\" , MSE)\n",
        "\n",
        "RMSE = np.sqrt(MSE)\n",
        "print(\"RMSE :\" ,RMSE)\n",
        "\n",
        "\n",
        "r2 = r2_score(10**(y_test),10**(y_pred))\n",
        "print('R2 : ',r2)\n",
        "\n",
        "adj_r2=1-(1-r2_score(10**(y_test), 10**(y_pred)))*((x_test.shape[0]-1)/(x_test.shape[0]-x_test.shape[1]-1))\n",
        "print(\"Adjusted R2 : \",adj_r2)\n",
        "\n"
      ],
      "execution_count": 339,
      "outputs": [
        {
          "output_type": "stream",
          "name": "stdout",
          "text": [
            "MAE : 4.595831340554988\n",
            "MSE : 49.7492111697768\n",
            "RMSE : 7.053312070919364\n",
            "R2 :  0.9946271364912782\n",
            "Adjusted R2 :  0.9941386943541217\n"
          ]
        }
      ]
    },
    {
      "cell_type": "code",
      "metadata": {
        "id": "nhecZ0KHzJKQ"
      },
      "source": [
        "#Inserting errors in dataframe\n",
        "error_df.loc[i,\"Model_Name\"]='KNN - LOG'\n",
        "error_df.loc[i,\"MAE\"]=round(MAE,2)\n",
        "error_df.loc[i,\"MSE\"]=round(MSE,2)\n",
        "error_df.loc[i,\"RMSE\"]=round(RMSE,2)\n",
        "error_df.loc[i,\"r2 score\"]=round(r2,6)\n",
        "error_df.loc[i,\"adjusted r2 \"]=round(adj_r2,6)\n",
        "\n",
        "i=i+1"
      ],
      "execution_count": 340,
      "outputs": []
    },
    {
      "cell_type": "markdown",
      "metadata": {
        "id": "KgAqsCRGuQBI"
      },
      "source": [
        "min max"
      ]
    },
    {
      "cell_type": "code",
      "metadata": {
        "id": "oWrh4w4tuQmY"
      },
      "source": [
        ""
      ],
      "execution_count": 340,
      "outputs": []
    },
    {
      "cell_type": "code",
      "metadata": {
        "id": "-K6RlCWvuQ1E"
      },
      "source": [
        "from sklearn.model_selection import GridSearchCV\n",
        "scaler = MinMaxScaler()\n",
        "params = {'n_neighbors':[2,3,4,5,6,7,8,9]}\n",
        "x_train, x_test,y_train, y_test = train_test_split((dep_var),(indep_var),test_size=.20,random_state=1)\n",
        "x_train = scaler.fit_transform(x_train)\n",
        "x_test = scaler.transform(x_test)\n",
        "knn = neighbors.KNeighborsRegressor()\n",
        "\n",
        "model = GridSearchCV(knn, params, cv=5)\n",
        "model.fit(x_train,y_train)\n",
        "model.best_params_\n",
        "y_pred=model.predict(x_test)"
      ],
      "execution_count": 341,
      "outputs": []
    },
    {
      "cell_type": "code",
      "metadata": {
        "colab": {
          "base_uri": "https://localhost:8080/"
        },
        "id": "GFwuQBgpuQ1E",
        "outputId": "489c71d9-e0d0-4b81-8f59-a74c9b356c68"
      },
      "source": [
        "#evaluation metrics\n",
        "MAE=mean_absolute_error((y_test), (y_pred))\n",
        "print(\"MAE :\" ,MAE)\n",
        "\n",
        "MSE  = mean_squared_error((y_test), (y_pred))\n",
        "print(\"MSE :\" , MSE)\n",
        "\n",
        "RMSE = np.sqrt(MSE)\n",
        "print(\"RMSE :\" ,RMSE)\n",
        "\n",
        "r2 = r2_score((y_test),(y_pred))\n",
        "print(r2)\n",
        "\n",
        "adj_r2=1-(1-r2_score((y_test), (y_pred)))*((x_test.shape[0]-1)/(x_test.shape[0]-x_test.shape[1]-1))\n",
        "print(\"Adjusted R2 : \",adj_r2)"
      ],
      "execution_count": 342,
      "outputs": [
        {
          "output_type": "stream",
          "name": "stdout",
          "text": [
            "MAE : 4.104324324324326\n",
            "MSE : 37.72864864864864\n",
            "RMSE : 6.142365069633084\n",
            "0.9959253448488675\n",
            "Adjusted R2 :  0.99555492165331\n"
          ]
        }
      ]
    },
    {
      "cell_type": "code",
      "metadata": {
        "id": "jMA4FHPBxe_f"
      },
      "source": [
        "#Inserting errors in dataframe\n",
        "error_df.loc[i,\"Model_Name\"]='KNN - MINMAX'\n",
        "error_df.loc[i,\"MAE\"]=round(MAE,2)\n",
        "error_df.loc[i,\"MSE\"]=round(MSE,2)\n",
        "error_df.loc[i,\"RMSE\"]=round(RMSE,2)\n",
        "error_df.loc[i,\"r2 score\"]=round(r2,6)\n",
        "error_df.loc[i,\"adjusted r2 \"]=round(adj_r2,6)\n",
        "\n",
        "i=i+1"
      ],
      "execution_count": 343,
      "outputs": []
    },
    {
      "cell_type": "code",
      "metadata": {
        "colab": {
          "base_uri": "https://localhost:8080/",
          "height": 300
        },
        "id": "xbOlndQey2g5",
        "outputId": "86e32316-fdb5-445a-fa74-292b499bccc6"
      },
      "source": [
        "error_df"
      ],
      "execution_count": 344,
      "outputs": [
        {
          "output_type": "execute_result",
          "data": {
            "text/html": [
              "<div>\n",
              "<style scoped>\n",
              "    .dataframe tbody tr th:only-of-type {\n",
              "        vertical-align: middle;\n",
              "    }\n",
              "\n",
              "    .dataframe tbody tr th {\n",
              "        vertical-align: top;\n",
              "    }\n",
              "\n",
              "    .dataframe thead th {\n",
              "        text-align: right;\n",
              "    }\n",
              "</style>\n",
              "<table border=\"1\" class=\"dataframe\">\n",
              "  <thead>\n",
              "    <tr style=\"text-align: right;\">\n",
              "      <th></th>\n",
              "      <th>Model_Name</th>\n",
              "      <th>MAE</th>\n",
              "      <th>MSE</th>\n",
              "      <th>RMSE</th>\n",
              "      <th>r2 score</th>\n",
              "      <th>adjusted r2</th>\n",
              "    </tr>\n",
              "  </thead>\n",
              "  <tbody>\n",
              "    <tr>\n",
              "      <th>0</th>\n",
              "      <td>linear regression</td>\n",
              "      <td>3.17</td>\n",
              "      <td>20.62</td>\n",
              "      <td>4.54</td>\n",
              "      <td>0.997773</td>\n",
              "      <td>0.997571</td>\n",
              "    </tr>\n",
              "    <tr>\n",
              "      <th>1</th>\n",
              "      <td>linear regression - MINMAX</td>\n",
              "      <td>3.05</td>\n",
              "      <td>19.99</td>\n",
              "      <td>4.47</td>\n",
              "      <td>0.997841</td>\n",
              "      <td>0.997645</td>\n",
              "    </tr>\n",
              "    <tr>\n",
              "      <th>2</th>\n",
              "      <td>linear regression - no trans</td>\n",
              "      <td>3.05</td>\n",
              "      <td>19.99</td>\n",
              "      <td>4.47</td>\n",
              "      <td>0.997841</td>\n",
              "      <td>0.997645</td>\n",
              "    </tr>\n",
              "    <tr>\n",
              "      <th>3</th>\n",
              "      <td>xgboost(man)</td>\n",
              "      <td>4.33</td>\n",
              "      <td>33.55</td>\n",
              "      <td>5.79</td>\n",
              "      <td>0.996376</td>\n",
              "      <td>0.996047</td>\n",
              "    </tr>\n",
              "    <tr>\n",
              "      <th>4</th>\n",
              "      <td>xgboost_2</td>\n",
              "      <td>4.26</td>\n",
              "      <td>32.91</td>\n",
              "      <td>5.74</td>\n",
              "      <td>0.996445</td>\n",
              "      <td>0.996122</td>\n",
              "    </tr>\n",
              "    <tr>\n",
              "      <th>5</th>\n",
              "      <td>KNN - NORMAL</td>\n",
              "      <td>3.85</td>\n",
              "      <td>31.12</td>\n",
              "      <td>5.58</td>\n",
              "      <td>0.996639</td>\n",
              "      <td>0.996334</td>\n",
              "    </tr>\n",
              "    <tr>\n",
              "      <th>6</th>\n",
              "      <td>KNN - LOG</td>\n",
              "      <td>4.60</td>\n",
              "      <td>49.75</td>\n",
              "      <td>7.05</td>\n",
              "      <td>0.994627</td>\n",
              "      <td>0.994139</td>\n",
              "    </tr>\n",
              "    <tr>\n",
              "      <th>7</th>\n",
              "      <td>KNN - MINMAX</td>\n",
              "      <td>4.10</td>\n",
              "      <td>37.73</td>\n",
              "      <td>6.14</td>\n",
              "      <td>0.995925</td>\n",
              "      <td>0.995555</td>\n",
              "    </tr>\n",
              "  </tbody>\n",
              "</table>\n",
              "</div>"
            ],
            "text/plain": [
              "                     Model_Name   MAE    MSE  RMSE  r2 score  adjusted r2 \n",
              "0             linear regression  3.17  20.62  4.54  0.997773      0.997571\n",
              "1    linear regression - MINMAX  3.05  19.99  4.47  0.997841      0.997645\n",
              "2  linear regression - no trans  3.05  19.99  4.47  0.997841      0.997645\n",
              "3                  xgboost(man)  4.33  33.55  5.79  0.996376      0.996047\n",
              "4                     xgboost_2  4.26  32.91  5.74  0.996445      0.996122\n",
              "5                  KNN - NORMAL  3.85  31.12  5.58  0.996639      0.996334\n",
              "6                     KNN - LOG  4.60  49.75  7.05  0.994627      0.994139\n",
              "7                  KNN - MINMAX  4.10  37.73  6.14  0.995925      0.995555"
            ]
          },
          "metadata": {},
          "execution_count": 344
        }
      ]
    },
    {
      "cell_type": "code",
      "metadata": {
        "id": "MWOlEq_pz1Dp"
      },
      "source": [
        ""
      ],
      "execution_count": 344,
      "outputs": []
    }
  ]
}